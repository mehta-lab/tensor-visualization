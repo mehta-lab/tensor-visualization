{
 "cells": [
  {
   "cell_type": "code",
   "execution_count": 1,
   "metadata": {},
   "outputs": [],
   "source": [
    "import numpy as np\n",
    "import matplotlib.pyplot as plt\n",
    "\n",
    "import tifffile as tf\n",
    "import os\n",
    "import numpy as np\n",
    "import matplotlib\n",
    "matplotlib.use('Agg')\n",
    "import matplotlib.pyplot as plt\n",
    "from matplotlib import cm\n",
    "import cv2\n",
    "from mpl_toolkits.axes_grid1 import make_axes_locatable\n",
    "\n",
    "%matplotlib inline"
   ]
  },
  {
   "cell_type": "code",
   "execution_count": 2,
   "metadata": {},
   "outputs": [],
   "source": [
    "def nanRobustBlur(I, dim):\n",
    "    V=I.copy()\n",
    "    V[I!=I]=0\n",
    "    VV=cv2.blur(V,dim)   \n",
    "    W=0*I.copy()+1\n",
    "    W[I!=I]=0\n",
    "    WW=cv2.blur(W,dim)    \n",
    "    Z=VV/WW\n",
    "    return Z "
   ]
  },
  {
   "cell_type": "code",
   "execution_count": 3,
   "metadata": {},
   "outputs": [],
   "source": [
    "anisotropy = cv2.imread('img_retardance3D_t000_p000_z044.tif', -1).astype('float32')\n",
    "orientation = cv2.imread('img_azimuth_t000_p000_z044.tif', -1).astype('float32')"
   ]
  },
  {
   "cell_type": "code",
   "execution_count": 4,
   "metadata": {},
   "outputs": [],
   "source": [
    "ps = 6.9/63\n",
    "wavelength = 0.532\n",
    "\n",
    "orientation = orientation / 18000*np.pi\n",
    "anisotropy = anisotropy / 10000"
   ]
  },
  {
   "cell_type": "code",
   "execution_count": 5,
   "metadata": {},
   "outputs": [],
   "source": [
    "def return_smooth(orientation, anisotropy):\n",
    "    U, V =  anisotropy*np.cos(2 * orientation), anisotropy*np.sin(2 * orientation)\n",
    "    USmooth = nanRobustBlur(U, (5, 5)) # plot smoothed vector field\n",
    "    VSmooth = nanRobustBlur(V, (5, 5)) # plot smoothed vector field\n",
    "    azimuthSmooth = (0.5*np.arctan2(VSmooth,USmooth)) % np.pi\n",
    "    RSmooth = np.sqrt(USmooth**2+VSmooth**2)\n",
    "    \n",
    "    return RSmooth, azimuthSmooth"
   ]
  },
  {
   "cell_type": "code",
   "execution_count": 6,
   "metadata": {},
   "outputs": [],
   "source": [
    "anisotropy, orientation = return_smooth(orientation, anisotropy)"
   ]
  },
  {
   "cell_type": "code",
   "execution_count": 7,
   "metadata": {},
   "outputs": [],
   "source": [
    "def return_D(position):\n",
    "    scale_value = anisotropy[position[0]][position[1]]\n",
    "    theta = orientation[position[0]][position[1]]\n",
    "    \n",
    "    scale_matrix = np.matrix([[scale_value, 0], [0, 1]])\n",
    "    angle_matrix = np.matrix([[np.cos(theta), -np.sin(theta)], [np.sin(theta), np.cos(theta)]])\n",
    "    angle_matrix_2 = np.matrix([[np.cos(theta), np.sin(theta)], [-np.sin(theta), np.cos(theta)]])\n",
    "    \n",
    "    D_matrix = angle_matrix*scale_matrix*angle_matrix_2\n",
    "    \n",
    "    return D_matrix"
   ]
  },
  {
   "cell_type": "code",
   "execution_count": 8,
   "metadata": {},
   "outputs": [],
   "source": [
    "D1 = np.zeros_like(anisotropy, dtype=np.float32)\n",
    "D2 = np.zeros_like(anisotropy, dtype=np.float32)\n",
    "D3 = np.zeros_like(anisotropy, dtype=np.float32)\n",
    "D4 = np.zeros_like(anisotropy, dtype=np.float32)\n",
    "\n",
    "x = np.arange(0, anisotropy.shape[0], 1)\n",
    "y = np.arange(0, anisotropy.shape[1], 1)\n",
    "\n",
    "for i in x:\n",
    "    for j in y:\n",
    "        scale_matrix = return_D([i, j])\n",
    "\n",
    "        D1[i, j] = scale_matrix[0, 0]\n",
    "        D2[i, j] = scale_matrix[0, 1]\n",
    "        D3[i, j] = scale_matrix[1, 0]\n",
    "        D4[i, j] = scale_matrix[1, 1]"
   ]
  },
  {
   "cell_type": "code",
   "execution_count": 9,
   "metadata": {},
   "outputs": [],
   "source": [
    "from scipy import interpolate"
   ]
  },
  {
   "cell_type": "code",
   "execution_count": 10,
   "metadata": {},
   "outputs": [],
   "source": [
    "D1_interp = interpolate.interp2d(x, y, D1, kind='cubic')\n",
    "D2_interp = interpolate.interp2d(x, y, D2, kind='cubic')\n",
    "D3_interp = interpolate.interp2d(x, y, D3, kind='cubic')\n",
    "D4_interp = interpolate.interp2d(x, y, D4, kind='cubic')"
   ]
  },
  {
   "cell_type": "code",
   "execution_count": 11,
   "metadata": {},
   "outputs": [],
   "source": [
    "def return_D_interp(position):\n",
    "    D1_value = D1_interp(position[0], position[1])[0]\n",
    "    D2_value = D2_interp(position[0], position[1])[0]\n",
    "    D3_value = D3_interp(position[0], position[1])[0]\n",
    "    D4_value = D4_interp(position[0], position[1])[0]\n",
    "    \n",
    "    return np.matrix([[D1_value, D2_value], [D3_value, D4_value]])"
   ]
  },
  {
   "cell_type": "code",
   "execution_count": 12,
   "metadata": {},
   "outputs": [],
   "source": [
    "gamma = 0.5\n",
    "def force_function(r):\n",
    "    if 0 < r < 1:\n",
    "        return r - 1\n",
    "    elif 1 <= r <= 1 + gamma:\n",
    "        return ((r-1)*(1+gamma-r)**2)/gamma**2\n",
    "    elif r > 1 + gamma:\n",
    "        return 0"
   ]
  },
  {
   "cell_type": "code",
   "execution_count": 13,
   "metadata": {},
   "outputs": [],
   "source": [
    "def return_D_inverse(pos_a, pos_b):\n",
    "    D_a = return_D_interp(pos_a)\n",
    "    D_b = return_D_interp(pos_b)\n",
    "    \n",
    "    D_inverse_ab = (np.linalg.inv(D_a) + np.linalg.inv(D_b))/2\n",
    "    \n",
    "    return D_inverse_ab"
   ]
  },
  {
   "cell_type": "code",
   "execution_count": 14,
   "metadata": {},
   "outputs": [],
   "source": [
    "alpha = 1000\n",
    "def return_x_ab(pos_a, pos_b):\n",
    "    D_inv_ab = return_D_inverse(pos_a, pos_b)\n",
    "    \n",
    "    pos_a = np.asarray(pos_a, dtype='float32')\n",
    "    pos_b = np.asarray(pos_b, dtype='float32')\n",
    "    y_ab = pos_a - pos_b\n",
    "    y_ab = y_ab.reshape((2, 1))\n",
    "    \n",
    "    return D_inv_ab*y_ab/(2*alpha)"
   ]
  },
  {
   "cell_type": "code",
   "execution_count": 15,
   "metadata": {},
   "outputs": [],
   "source": [
    "from numpy import linalg as LA\n",
    "def return_force(pos_a, pos_b):\n",
    "    x_ab = return_x_ab(pos_a, pos_b)\n",
    "    x_ab_dist = LA.norm(x_ab)\n",
    "    D_inv_ab = return_D_inverse(pos_a, pos_b)\n",
    "\n",
    "    return (-force_function(x_ab_dist)*D_inv_ab*x_ab)/(2*alpha*x_ab_dist)"
   ]
  },
  {
   "cell_type": "code",
   "execution_count": 16,
   "metadata": {},
   "outputs": [],
   "source": [
    "initial_num_points = 200\n",
    "final_points = 100\n",
    "random_rows = np.random.choice(anisotropy.shape[0], initial_num_points)\n",
    "random_columns = np.random.choice(anisotropy.shape[1], initial_num_points)\n",
    "random_points = list(zip(random_rows, random_columns))"
   ]
  },
  {
   "cell_type": "code",
   "execution_count": 17,
   "metadata": {},
   "outputs": [],
   "source": [
    "det_D_list = [np.linalg.det(return_D_interp(pos)) for pos in random_points]\n",
    "points_rejected = np.random.choice(len(random_points), initial_num_points - final_points, det_D_list)\n",
    "final_points = [random_points[i] for i in range(len(random_points)) if i not in points_rejected]"
   ]
  },
  {
   "cell_type": "code",
   "execution_count": 18,
   "metadata": {},
   "outputs": [],
   "source": [
    "def total_force_on_point(index):\n",
    "    total_force = np.zeros((2, 1))\n",
    "    p_a = final_points[index]\n",
    "    for point in final_points:\n",
    "        if point != p_a:\n",
    "            f = return_force(p_a, point)\n",
    "            total_force += f\n",
    "    \n",
    "    return total_force"
   ]
  },
  {
   "cell_type": "code",
   "execution_count": 19,
   "metadata": {},
   "outputs": [],
   "source": [
    "def diff_equation(y, t, c_drag, total_force):\n",
    "    p0, p1, r0, r1 = y\n",
    "    dydt = [r0, r1, total_force[0] - 1*r0, total_force[1] - 1*r1]\n",
    "    return dydt"
   ]
  },
  {
   "cell_type": "code",
   "execution_count": 20,
   "metadata": {},
   "outputs": [],
   "source": [
    "from scipy.integrate import odeint\n",
    "def solve_particle_path(index):\n",
    "    c_drag = 1.0\n",
    "    y0 = [final_points[index][0], final_points[index][1], 0.0, 0.0]\n",
    "    t = np.linspace(0, 100, 1001)\n",
    "    \n",
    "    tf = total_force_on_point(index)\n",
    "    \n",
    "    sol = odeint(diff_equation, y0, t, args=(c_drag, tf))\n",
    "    \n",
    "    return sol"
   ]
  },
  {
   "cell_type": "code",
   "execution_count": 21,
   "metadata": {},
   "outputs": [
    {
     "data": {
      "image/png": "[encoded data removed]",
      "text/plain": [
       "<Figure size 432x288 with 1 Axes>"
      ]
     },
     "metadata": {
      "needs_background": "light"
     },
     "output_type": "display_data"
    }
   ],
   "source": [
    "for i in range(len(final_points)):\n",
    "    sol = solve_particle_path(i)\n",
    "    plt.plot(sol[:,0], sol[:,1])\n",
    "plt.show()"
   ]
  },
  {
   "cell_type": "code",
   "execution_count": null,
   "metadata": {},
   "outputs": [],
   "source": []
  }
 ],
 "metadata": {
  "kernelspec": {
   "display_name": "Python 3",
   "language": "python",
   "name": "python3"
  },
  "language_info": {
   "codemirror_mode": {
    "name": "ipython",
    "version": 3
   },
   "file_extension": ".py",
   "mimetype": "text/x-python",
   "name": "python",
   "nbconvert_exporter": "python",
   "pygments_lexer": "ipython3",
   "version": "3.6.10"
  }
 },
 "nbformat": 4,
 "nbformat_minor": 4
}
