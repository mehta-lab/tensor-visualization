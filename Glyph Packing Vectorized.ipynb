{
 "cells": [
  {
   "cell_type": "code",
   "execution_count": 1,
   "metadata": {},
   "outputs": [],
   "source": [
    "# Parameters\n",
    "initial_num_points = 800\n",
    "final_points = 500\n",
    "alpha = 1000.0\n",
    "max_time = 20.0\n",
    "min_time = 5.0\n",
    "num_iterations = 40\n",
    "boundary = 20\n",
    "c_drag = 1.0\n",
    "image_size = 40"
   ]
  },
  {
   "cell_type": "code",
   "execution_count": 2,
   "metadata": {},
   "outputs": [],
   "source": [
    "import numpy as np\n",
    "import matplotlib.pyplot as plt\n",
    "\n",
    "import tifffile as tf\n",
    "import os\n",
    "import numpy as np\n",
    "import matplotlib\n",
    "matplotlib.use('Agg')\n",
    "import matplotlib.pyplot as plt\n",
    "from matplotlib import cm\n",
    "import cv2\n",
    "from mpl_toolkits.axes_grid1 import make_axes_locatable\n",
    "from scipy.integrate import odeint\n",
    "import time\n",
    "from numpy import linalg as LA\n",
    "import random\n",
    "from itertools import cycle\n",
    "from scipy import interpolate\n",
    "import cv2\n",
    "%matplotlib inline\n",
    "\n",
    "def nanRobustBlur(I, dim):\n",
    "    V=I.copy()\n",
    "    V[I!=I]=0\n",
    "    VV=cv2.blur(V,dim)   \n",
    "    W=0*I.copy()+1\n",
    "    W[I!=I]=0\n",
    "    WW=cv2.blur(W,dim)    \n",
    "    Z=VV/WW\n",
    "    return Z \n",
    "\n",
    "anisotropy = np.zeros((image_size, image_size)) + 0.5\n",
    "orientation = np.zeros((image_size, image_size))\n",
    "anisotropy[10:30, 10:30] = 2\n",
    "\n",
    "def return_smooth(orientation, anisotropy):\n",
    "    U, V =  anisotropy*np.cos(2 * orientation), anisotropy*np.sin(2 * orientation)\n",
    "    USmooth = nanRobustBlur(U, (5, 5)) # plot smoothed vector field\n",
    "    VSmooth = nanRobustBlur(V, (5, 5)) # plot smoothed vector field\n",
    "    azimuthSmooth = (0.5*np.arctan2(VSmooth,USmooth)) % np.pi\n",
    "    RSmooth = np.sqrt(USmooth**2+VSmooth**2)\n",
    "    \n",
    "    return RSmooth, azimuthSmooth\n",
    "\n",
    "anisotropy, orientation = return_smooth(orientation, anisotropy)\n",
    "\n",
    "def return_D(position):\n",
    "    scale_value = anisotropy[position[0]][position[1]]\n",
    "    theta = orientation[position[0]][position[1]]\n",
    "    \n",
    "    if abs(scale_value) > 1:\n",
    "        scale_matrix = np.matrix([[scale_value, 0], [0, 1]])\n",
    "    else:\n",
    "        scale_matrix = np.matrix([[1, 0], [0, scale_value]])\n",
    "    \n",
    "    angle_matrix = np.matrix([[np.cos(theta), -np.sin(theta)], [np.sin(theta), np.cos(theta)]])\n",
    "    angle_matrix_2 = np.matrix([[np.cos(theta), np.sin(theta)], [-np.sin(theta), np.cos(theta)]])\n",
    "    \n",
    "    D_matrix = np.matmul(np.matmul(angle_matrix, scale_matrix), angle_matrix_2)\n",
    "    \n",
    "    return D_matrix\n",
    "\n",
    "memory_inverse = {}\n",
    "\n",
    "D1 = np.zeros_like(anisotropy, dtype=np.float32)\n",
    "D2 = np.zeros_like(anisotropy, dtype=np.float32)\n",
    "D3 = np.zeros_like(anisotropy, dtype=np.float32)\n",
    "D4 = np.zeros_like(anisotropy, dtype=np.float32)\n",
    "\n",
    "x = np.arange(0, anisotropy.shape[0], 1)\n",
    "y = np.arange(0, anisotropy.shape[1], 1)\n",
    "\n",
    "for i in x:\n",
    "    for j in y:\n",
    "        scale_matrix = return_D([i, j])\n",
    "        memory_inverse[(i, j)] = np.linalg.inv(scale_matrix)\n",
    "\n",
    "        D1[i, j] = scale_matrix[0, 0]\n",
    "        D2[i, j] = scale_matrix[0, 1]\n",
    "        D3[i, j] = scale_matrix[1, 0]\n",
    "        D4[i, j] = scale_matrix[1, 1]\n",
    "\n",
    "D1_interp = interpolate.interp2d(x, y, D1.T, kind='cubic')\n",
    "D2_interp = interpolate.interp2d(x, y, D2.T, kind='cubic')\n",
    "D3_interp = interpolate.interp2d(x, y, D3.T, kind='cubic')\n",
    "D4_interp = interpolate.interp2d(x, y, D4.T, kind='cubic')"
   ]
  },
  {
   "cell_type": "code",
   "execution_count": 3,
   "metadata": {},
   "outputs": [
    {
     "data": {
      "text/plain": [
       "<matplotlib.image.AxesImage at 0x7fdb8d9dd630>"
      ]
     },
     "execution_count": 3,
     "metadata": {},
     "output_type": "execute_result"
    },
    {
     "data": {
      "image/png": "[encoded data removed]",
      "text/plain": [
       "<Figure size 432x288 with 1 Axes>"
      ]
     },
     "metadata": {
      "needs_background": "light"
     },
     "output_type": "display_data"
    }
   ],
   "source": [
    "plt.imshow(anisotropy)"
   ]
  },
  {
   "cell_type": "code",
   "execution_count": 4,
   "metadata": {},
   "outputs": [],
   "source": [
    "# plt.imshow(edges_y)"
   ]
  },
  {
   "cell_type": "code",
   "execution_count": 5,
   "metadata": {},
   "outputs": [],
   "source": [
    "def return_D_interp(position):\n",
    "    D1_value = D1_interp(position[0], position[1])[0]\n",
    "    D2_value = D2_interp(position[0], position[1])[0]\n",
    "    D3_value = D3_interp(position[0], position[1])[0]\n",
    "    D4_value = D4_interp(position[0], position[1])[0]\n",
    "    \n",
    "    return np.matrix([[D1_value, D2_value], [D3_value, D4_value]])"
   ]
  },
  {
   "cell_type": "code",
   "execution_count": 6,
   "metadata": {},
   "outputs": [],
   "source": [
    "def return_D_inverse(pos_a, pos_b, approx=True):\n",
    "    if approx:\n",
    "        pos_a = ([int(x) for x in pos_a])\n",
    "        pos_b = ([int(x) for x in pos_b])\n",
    "        pos_a = (pos_a[0], pos_a[1])\n",
    "        pos_b = (pos_b[0], pos_b[1])\n",
    "        \n",
    "        if pos_a not in memory_inverse.keys() and pos_b not in memory_inverse.keys():\n",
    "            D_inverse_ab = np.identity(2)\n",
    "        elif pos_a not in memory_inverse.keys():\n",
    "            D_inverse_ab = memory_inverse[pos_b]\n",
    "        elif pos_b not in memory_inverse.keys():\n",
    "            D_inverse_ab = memory_inverse[pos_a]\n",
    "        else:\n",
    "            D_inverse_ab = (memory_inverse[pos_a] + memory_inverse[pos_b])/2.0\n",
    "\n",
    "        return D_inverse_ab\n",
    "    else:\n",
    "        mid_pos = tuple(np.add(pos_a, pos_b)/2.0)\n",
    "        D_ab = return_D_interp(mid_pos)\n",
    "        \n",
    "        return np.linalg.inv(D_ab)"
   ]
  },
  {
   "cell_type": "code",
   "execution_count": 7,
   "metadata": {},
   "outputs": [],
   "source": [
    "gamma = 0.5\n",
    "def force_function_list(r):\n",
    "    \n",
    "    mask_1 = np.logical_and(r < 1, r > 0)\n",
    "    mask_2 = np.logical_and(r >= 1, r <= 1 + gamma)\n",
    "    mask_3 = r > 1+gamma\n",
    "    \n",
    "    return mask_1*(r-1) + mask_2*(((r-1)*(1+gamma-r)**2)/gamma**2) + mask_3*(0)"
   ]
  },
  {
   "cell_type": "code",
   "execution_count": 8,
   "metadata": {},
   "outputs": [],
   "source": [
    "def return_total_force(pos_a, pos_b_positions, approx=True):\n",
    "    total_force = np.zeros((2, 1))\n",
    "    not_in_memory_pos = []\n",
    "    D_inverse_list = []\n",
    "    \n",
    "    identity = np.identity(2, dtype=float)\n",
    "    \n",
    "    for pos_b in pos_b_positions:\n",
    "        if (pos_a, pos_b) in memory_force.keys():\n",
    "            total_force += memory_force[(pos_a, pos_b)]\n",
    "        elif (pos_b, pos_a) in memory_force.keys():\n",
    "            total_force += -memory_force[(pos_b, pos_a)]\n",
    "        else:\n",
    "            if pos_b != pos_a:\n",
    "                not_in_memory_pos.append(pos_b)\n",
    "\n",
    "                if approx:\n",
    "                    D_inverse_list.append(return_D_inverse(pos_a, pos_b, approx))\n",
    "                else:\n",
    "                    position = tuple(np.add(pos_a, pos_b)/2.0)\n",
    "\n",
    "                    D1_value = D1_interp(position[0], position[1])[0]\n",
    "                    D2_value = D2_interp(position[0], position[1])[0]\n",
    "                    D3_value = D3_interp(position[0], position[1])[0]\n",
    "                    D4_value = D4_interp(position[0], position[1])[0]\n",
    "\n",
    "                    matrix = np.array([[D1_value, D2_value], [D3_value, D4_value]])\n",
    "\n",
    "                    D_inverse_list.append(np.linalg.solve(matrix, identity))\n",
    "    \n",
    "    if len(not_in_memory_pos) > 0:\n",
    "        D_inverse_list = np.array(D_inverse_list)\n",
    "\n",
    "        pos_a_np = np.asarray(pos_a, dtype='float32')\n",
    "\n",
    "        y_ab_stack = pos_a_np - not_in_memory_pos\n",
    "        y_ab_stack = y_ab_stack.reshape(len(not_in_memory_pos), 2, 1)\n",
    "\n",
    "        x_ab_list = np.transpose(np.einsum('ijk,ikl->ijl', D_inverse_list, y_ab_stack)[:,:,0])/(2*alpha)\n",
    "        x_ab_dist_list = LA.norm(x_ab_list, axis=0)\n",
    "\n",
    "        mult = np.transpose(x_ab_list).reshape(x_ab_list.shape[1], x_ab_list.shape[0], 1)\n",
    "        force_list = -force_function_list(x_ab_dist_list)*np.transpose(np.einsum('ijk,ikl->ijl', D_inverse_list, mult)[:,:,0])/(2*alpha*x_ab_dist_list)\n",
    "        missed_points = list(zip(cycle([pos_a]), not_in_memory_pos))\n",
    "        memory_force.update(zip(missed_points, list(np.transpose(force_list).reshape((len(not_in_memory_pos), 2, 1)))))\n",
    "\n",
    "        total_force += np.sum(force_list, axis = 1).reshape((2, 1))   \n",
    "            \n",
    "    return total_force"
   ]
  },
  {
   "cell_type": "code",
   "execution_count": 9,
   "metadata": {},
   "outputs": [],
   "source": [
    "random_rows = np.random.choice(anisotropy.shape[0], initial_num_points)\n",
    "random_columns = np.random.choice(anisotropy.shape[1], initial_num_points)\n",
    "random_points = list(zip(random_rows, random_columns))"
   ]
  },
  {
   "cell_type": "code",
   "execution_count": 10,
   "metadata": {},
   "outputs": [],
   "source": [
    "det_D_list = [np.linalg.det(return_D_interp(pos)) for pos in random_points]\n",
    "max_det = max(det_D_list)\n",
    "det_D_list = [x/max_det for x in det_D_list]\n",
    "points_rejected = np.random.choice(len(random_points), initial_num_points - final_points, det_D_list)\n",
    "final_points = [random_points[i] for i in range(len(random_points)) if i not in points_rejected]"
   ]
  },
  {
   "cell_type": "code",
   "execution_count": 11,
   "metadata": {},
   "outputs": [],
   "source": [
    "eig_D = [max(np.linalg.eig(return_D_interp(pos))[0]) for pos in random_points]\n",
    "max_eig = max(eig_D)"
   ]
  },
  {
   "cell_type": "code",
   "execution_count": 12,
   "metadata": {},
   "outputs": [],
   "source": [
    "edge_length = 2*alpha*max_eig*(1+gamma)\n",
    "\n",
    "def bin_coords(pos):\n",
    "    x_coord = np.floor(pos[0]/edge_length)\n",
    "    y_coord = np.floor(pos[1]/edge_length)\n",
    "    \n",
    "    return (x_coord, y_coord)"
   ]
  },
  {
   "cell_type": "code",
   "execution_count": 13,
   "metadata": {},
   "outputs": [],
   "source": [
    "curr_points = final_points\n",
    "\n",
    "def form_dict(points):\n",
    "    dict_points = {}\n",
    "\n",
    "    for point in points:\n",
    "        bin_coord = bin_coords(point)\n",
    "\n",
    "        if bin_coord in dict_points.keys():\n",
    "            dict_points[bin_coord].append(point)\n",
    "        else:\n",
    "            dict_points[bin_coord] = [point]\n",
    "    \n",
    "    return dict_points"
   ]
  },
  {
   "cell_type": "code",
   "execution_count": 14,
   "metadata": {},
   "outputs": [],
   "source": [
    "def total_force_on_point(index, list_points, map_points, approx=True):\n",
    "    p_a = list_points[index]\n",
    "    bin_coord = bin_coords(p_a)\n",
    "    bin_x = bin_coord[0]\n",
    "    bin_y = bin_coord[1]\n",
    "\n",
    "    points_cons = []\n",
    "\n",
    "    points_cons += map_points[bin_coord]\n",
    "\n",
    "    if bin_x - 1 >= 0:\n",
    "        if (bin_x - 1, bin_y) in map_points.keys():\n",
    "            points_cons += map_points[(bin_x - 1, bin_y)]\n",
    "\n",
    "    if bin_y - 1 >= 0:\n",
    "        if (bin_x, bin_y - 1) in map_points.keys():\n",
    "            points_cons += map_points[(bin_x, bin_y - 1)]\n",
    "\n",
    "    if bin_x + 1 < anisotropy.shape[0]:\n",
    "        if (bin_x + 1, bin_y) in map_points.keys():\n",
    "            points_cons += map_points[(bin_x + 1, bin_y)]\n",
    "\n",
    "    if bin_y + 1 < anisotropy.shape[1]:\n",
    "        if (bin_x, bin_y + 1) in map_points.keys():\n",
    "            points_cons += map_points[(bin_x, bin_y + 1)]\n",
    "    \n",
    "    total_force = return_total_force(p_a, points_cons, approx)\n",
    "\n",
    "    return total_force, len(points_cons)"
   ]
  },
  {
   "cell_type": "code",
   "execution_count": 15,
   "metadata": {},
   "outputs": [],
   "source": [
    "def diff_equation(y, t, c_drag, total_force):\n",
    "    p0, p1, r0, r1 = y\n",
    "    dydt = [r0, r1, total_force[0] - c_drag*r0, total_force[1] - c_drag*r1]\n",
    "    return dydt\n",
    "\n",
    "def solve_particle_path(index, initial_pos, map_points, time_integrate, approx=True):\n",
    "    y0 = [initial_pos[index][0], initial_pos[index][1], 0.0, 0.0]  \n",
    "    t = np.linspace(0, time_integrate, 10) \n",
    "    tf, tot_points = total_force_on_point(index, initial_pos, map_points, approx)\n",
    "    sol = odeint(diff_equation, y0, t, args=(c_drag, tf))\n",
    "    \n",
    "    return sol, tot_points"
   ]
  },
  {
   "cell_type": "code",
   "execution_count": 28,
   "metadata": {},
   "outputs": [],
   "source": [
    "map_points = form_dict(curr_points)\n",
    "\n",
    "slope = (max_time - min_time)/(1 - num_iterations)\n",
    "constant = (num_iterations*max_time - min_time)/(num_iterations - 1)\n",
    "start_algo = time.clock()\n",
    "\n",
    "k = 0\n",
    "start_iteration = time.clock()\n",
    "final_positions = []\n",
    "num_particles = 0\n",
    "total_dist = 0\n",
    "new_map_points = {}\n",
    "avg_total_points = 0\n",
    "memory_force = {}\n",
    "time_integrate = slope*(k+1) + constant\n",
    "\n",
    "from joblib import Parallel, delayed\n",
    "\n",
    "def joblib_loop():\n",
    "    Parallel(n_jobs=4)(delayed(solve_particle_path)(i, curr_points, map_points, time_integrate, approx=False) for i in range(len(curr_points)))"
   ]
  },
  {
   "cell_type": "code",
   "execution_count": 29,
   "metadata": {},
   "outputs": [
    {
     "name": "stdout",
     "output_type": "stream",
     "text": [
      "54.6 s ± 300 ms per loop (mean ± std. dev. of 7 runs, 1 loop each)\n"
     ]
    }
   ],
   "source": [
    "%timeit joblib_loop()"
   ]
  },
  {
   "cell_type": "code",
   "execution_count": null,
   "metadata": {},
   "outputs": [
    {
     "name": "stdout",
     "output_type": "stream",
     "text": [
      "Distances moved by particle: 6.623812454108465\n",
      "Number of particles: 849\n",
      "Number of particles for force: 849.0\n",
      "Time taken for iteration:  10.765468000000055\n",
      "\n",
      "Distances moved by particle: 2.579779540472219\n",
      "Number of particles: 597\n",
      "Number of particles for force: 393.91624790619767\n",
      "Time taken for iteration:  19.255795000000035\n",
      "\n",
      "Distances moved by particle: 1.6308864934597862\n",
      "Number of particles: 421\n",
      "Number of particles for force: 244.05700712589075\n",
      "Time taken for iteration:  31.129392000000053\n",
      "\n",
      "Distances moved by particle: 1.023484482961733\n",
      "Number of particles: 298\n",
      "Number of particles for force: 170.59395973154363\n",
      "Time taken for iteration:  21.44487100000015\n",
      "\n",
      "Distances moved by particle: 0.7083597094084098\n",
      "Number of particles: 246\n",
      "Number of particles for force: 134.8861788617886\n",
      "Time taken for iteration:  18.856347999999798\n",
      "\n"
     ]
    }
   ],
   "source": [
    "map_points = form_dict(curr_points)\n",
    "\n",
    "slope = (max_time - min_time)/(1 - num_iterations)\n",
    "constant = (num_iterations*max_time - min_time)/(num_iterations - 1)\n",
    "start_algo = time.clock()\n",
    "\n",
    "for k in range(num_iterations):\n",
    "    start_iteration = time.clock()\n",
    "    final_positions = []\n",
    "    num_particles = 0\n",
    "    total_dist = 0\n",
    "    new_map_points = {}\n",
    "    avg_total_points = 0\n",
    "    memory_force = {}\n",
    "    time_integrate = slope*(k+1) + constant\n",
    "\n",
    "    for i in range(len(curr_points)):\n",
    "        if k < 8:\n",
    "            sol, tot_points = solve_particle_path(i, curr_points, map_points, time_integrate, approx=True)\n",
    "        else:\n",
    "            sol, tot_points = solve_particle_path(i, curr_points, map_points, time_integrate, approx=False)\n",
    "\n",
    "#         plt.plot(sol[:,0], sol[:,1])\n",
    "#         plt.scatter(sol[-1, 0], sol[-1, 1], s=5)\n",
    "        \n",
    "        if sol[-1, 0] >= -boundary and sol[-1, 0] <= anisotropy.shape[0] + boundary and \\\n",
    "           sol[-1, 1] >= -boundary and sol[-1, 1] <= anisotropy.shape[1] + boundary:\n",
    "            final_positions.append((sol[-1, 0], sol[-1, 1]))\n",
    "            num_particles += 1\n",
    "            avg_total_points += tot_points\n",
    "            total_dist += LA.norm(np.array([sol[-1, 0], sol[-1, 1]]) - np.array([sol[0, 0], sol[0, 1]]))     \n",
    "\n",
    "            new_bin_coord = bin_coords((sol[-1, 0], sol[-1, 1]))\n",
    "\n",
    "            if new_bin_coord in new_map_points.keys():\n",
    "                new_map_points[new_bin_coord].append((sol[-1, 0], sol[-1, 1]))\n",
    "            else:\n",
    "                new_map_points[new_bin_coord] = [(sol[-1, 0], sol[-1, 1])]\n",
    "    \n",
    "    if k%4 == 0: \n",
    "        print(\"Distances moved by particle:\", total_dist/num_particles)\n",
    "        print(\"Number of particles:\", num_particles)\n",
    "        print(\"Number of particles for force:\", avg_total_points/num_particles)\n",
    "        end_iteration = time.clock()\n",
    "        print(\"Time taken for iteration: \", end_iteration - start_iteration)\n",
    "        print(\"\")\n",
    "    \n",
    "    curr_points = final_positions\n",
    "    map_points = new_map_points\n",
    "    \n",
    "    if total_dist/num_particles < 0.5:\n",
    "        break\n",
    "\n",
    "end_algo = time.clock()\n",
    "\n",
    "print(\"Total time taken: \", end_algo - start_algo)"
   ]
  },
  {
   "cell_type": "code",
   "execution_count": 101,
   "metadata": {},
   "outputs": [],
   "source": [
    "final_positions = np.array(final_positions)\n",
    "final_positions = np.around(final_positions, decimals=0)"
   ]
  },
  {
   "cell_type": "code",
   "execution_count": 102,
   "metadata": {},
   "outputs": [
    {
     "data": {
      "image/png": "[encoded data removed]",
      "text/plain": [
       "<Figure size 432x288 with 1 Axes>"
      ]
     },
     "metadata": {
      "needs_background": "light"
     },
     "output_type": "display_data"
    }
   ],
   "source": [
    "for i in range(len(final_positions)):\n",
    "    if final_positions[i][0] >= 0 and final_positions[i][0] <= anisotropy.shape[0] and final_positions[i][1] >= 0 and final_positions[i][1] <= anisotropy.shape[1]:\n",
    "        plt.scatter(final_positions[i][0], final_positions[i][1], s=20)"
   ]
  },
  {
   "cell_type": "code",
   "execution_count": null,
   "metadata": {},
   "outputs": [],
   "source": [
    "USmooth, VSmooth = anisotropy*np.cos(orientation), anisotropy*np.sin(orientation)\n",
    "final_positions = final_positions.astype(int)"
   ]
  },
  {
   "cell_type": "code",
   "execution_count": null,
   "metadata": {},
   "outputs": [],
   "source": [
    "Plotting_X = []\n",
    "Plotting_Y = []\n",
    "Plotting_U = []\n",
    "Plotting_V = []\n",
    "Plotting_orient = []\n",
    "\n",
    "USmooth = USmooth*0.1\n",
    "VSmooth = VSmooth*0.1\n",
    "\n",
    "for i in range(len(final_positions)):\n",
    "    if final_positions[i][0] >= 0 and final_positions[i][0] < anisotropy.shape[0] and final_positions[i][1] >= 0 and final_positions[i][1] < anisotropy.shape[1]:\n",
    "        Plotting_X.append(final_positions[i][0])\n",
    "        Plotting_Y.append(final_positions[i][1])\n",
    "        Plotting_U.append(USmooth[final_positions[i][0], final_positions[i][1]])\n",
    "        Plotting_V.append(VSmooth[final_positions[i][0], final_positions[i][1]])\n",
    "        Plotting_orient.append(orientation[final_positions[i][0], final_positions[i][1]])     \n",
    "\n",
    "Plotting_color = Plotting_orient"
   ]
  },
  {
   "cell_type": "code",
   "execution_count": null,
   "metadata": {},
   "outputs": [],
   "source": [
    "cmapImage = 'gray'\n",
    "cmapOrient = 'hsv'\n",
    "linecolor = 'g'\n",
    "alpha = 0.6\n",
    "linewidth = 0.5\n",
    "\n",
    "im_ax = plt.imshow(anisotropy, cmap=cmapImage)\n",
    "plt.title('Orientation')\n",
    "plt.quiver(Plotting_Y, Plotting_X,\n",
    "           Plotting_U, Plotting_V, Plotting_color,\n",
    "           cmap=cmapOrient,\n",
    "           edgecolor=linecolor, facecolor=linecolor, units='xy', alpha=alpha, width=linewidth,\n",
    "           headwidth=0, headlength=0, headaxislength=0,\n",
    "           scale_units = 'xy', scale = 1, angles = 'uv', pivot = 'mid')"
   ]
  },
  {
   "cell_type": "code",
   "execution_count": null,
   "metadata": {},
   "outputs": [],
   "source": [
    "nY, nX = anisotropy.shape\n",
    "Y, X = np.mgrid[0:nY,0:nX] # notice the reversed order of X and Y\n",
    "spacing = 2\n",
    "    \n",
    "# Sample variables at the specified spacing.\n",
    "Plotting_X = X[::spacing, ::spacing]\n",
    "Plotting_Y = Y[::spacing, ::spacing]\n",
    "Plotting_U = USmooth[::spacing, ::spacing]\n",
    "Plotting_V = VSmooth[::spacing, ::spacing]\n",
    "\n",
    "threshold = np.ones_like(X) # no threshold\n",
    "Plotting_thres = threshold[::spacing, ::spacing]\n",
    "Plotting_orient=orientation[::spacing, ::spacing]\n",
    "\n",
    "thresholdIdx = Plotting_thres==1\n",
    "Plotting_X=Plotting_X[thresholdIdx]\n",
    "Plotting_Y=Plotting_Y[thresholdIdx]\n",
    "Plotting_U=Plotting_U[thresholdIdx]\n",
    "Plotting_V=Plotting_V[thresholdIdx]\n",
    "Plotting_orient=Plotting_orient[thresholdIdx]\n",
    "Plotting_color=Plotting_orient"
   ]
  },
  {
   "cell_type": "code",
   "execution_count": null,
   "metadata": {},
   "outputs": [],
   "source": [
    "im_ax = plt.imshow(anisotropy, cmap=cmapImage)\n",
    "plt.title('Orientation')\n",
    "plt.quiver(Plotting_X, Plotting_Y,\n",
    "           Plotting_U, Plotting_V, Plotting_color,\n",
    "           cmap=cmapOrient,\n",
    "           edgecolor=linecolor, facecolor=linecolor, units='xy', alpha=alpha, width=linewidth,\n",
    "           headwidth=0, headlength=0, headaxislength=0,\n",
    "           scale_units = 'xy', scale = 1, angles = 'uv', pivot = 'mid')"
   ]
  },
  {
   "cell_type": "code",
   "execution_count": null,
   "metadata": {},
   "outputs": [],
   "source": [
    "USmooth, VSmooth = anisotropy*np.cos(orientation), anisotropy*np.sin(orientation)\n",
    "\n",
    "Plotting_X = []\n",
    "Plotting_Y = []\n",
    "Plotting_U = []\n",
    "Plotting_V = []\n",
    "Plotting_orient = []\n",
    "\n",
    "USmooth = USmooth*0.1\n",
    "VSmooth = VSmooth*0.1\n",
    "\n",
    "for i in range(len(final_points)):\n",
    "        Plotting_X.append(final_points[i][0])\n",
    "        Plotting_Y.append(final_points[i][1])\n",
    "        Plotting_U.append(USmooth[final_points[i][0], final_points[i][1]])\n",
    "        Plotting_V.append(VSmooth[final_points[i][0], final_points[i][1]])\n",
    "        Plotting_orient.append(orientation[final_points[i][0], final_points[i][1]])     \n",
    "\n",
    "Plotting_color = Plotting_orient"
   ]
  },
  {
   "cell_type": "code",
   "execution_count": null,
   "metadata": {},
   "outputs": [],
   "source": [
    "cmapImage = 'gray'\n",
    "cmapOrient = 'hsv'\n",
    "linecolor = 'g'\n",
    "alpha = 0.6\n",
    "linewidth = 0.5\n",
    "\n",
    "im_ax = plt.imshow(anisotropy, cmap=cmapImage)\n",
    "plt.title('Orientation')\n",
    "plt.quiver(Plotting_Y, Plotting_X,\n",
    "           Plotting_U, Plotting_V, Plotting_color,\n",
    "           cmap=cmapOrient,\n",
    "           edgecolor=linecolor, facecolor=linecolor, units='xy', alpha=alpha, width=linewidth,\n",
    "           headwidth=0, headlength=0, headaxislength=0,\n",
    "           scale_units = 'xy', scale = 1, angles = 'uv', pivot = 'mid')"
   ]
  },
  {
   "cell_type": "code",
   "execution_count": null,
   "metadata": {},
   "outputs": [],
   "source": []
  }
 ],
 "metadata": {
  "kernelspec": {
   "display_name": "Python 3",
   "language": "python",
   "name": "python3"
  },
  "language_info": {
   "codemirror_mode": {
    "name": "ipython",
    "version": 3
   },
   "file_extension": ".py",
   "mimetype": "text/x-python",
   "name": "python",
   "nbconvert_exporter": "python",
   "pygments_lexer": "ipython3",
   "version": "3.6.10"
  }
 },
 "nbformat": 4,
 "nbformat_minor": 4
}
