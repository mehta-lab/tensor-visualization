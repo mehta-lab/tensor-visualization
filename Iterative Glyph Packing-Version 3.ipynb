{
 "cells": [
  {
   "cell_type": "code",
   "execution_count": null,
   "metadata": {},
   "outputs": [],
   "source": [
    "import numpy as np\n",
    "import matplotlib.pyplot as plt\n",
    "\n",
    "import tifffile as tf\n",
    "import os\n",
    "import numpy as np\n",
    "import matplotlib\n",
    "matplotlib.use('Agg')\n",
    "import matplotlib.pyplot as plt\n",
    "from matplotlib import cm\n",
    "import cv2\n",
    "from mpl_toolkits.axes_grid1 import make_axes_locatable\n",
    "from scipy.integrate import odeint\n",
    "import time\n",
    "from numpy import linalg as LA\n",
    "import random\n",
    "from itertools import cycle\n",
    "\n",
    "%matplotlib inline"
   ]
  },
  {
   "cell_type": "code",
   "execution_count": null,
   "metadata": {},
   "outputs": [],
   "source": [
    "def nanRobustBlur(I, dim):\n",
    "    V=I.copy()\n",
    "    V[I!=I]=0\n",
    "    VV=cv2.blur(V,dim)   \n",
    "    W=0*I.copy()+1\n",
    "    W[I!=I]=0\n",
    "    WW=cv2.blur(W,dim)    \n",
    "    Z=VV/WW\n",
    "    return Z "
   ]
  },
  {
   "cell_type": "code",
   "execution_count": null,
   "metadata": {},
   "outputs": [],
   "source": [
    "# anisotropy = np.random.rand(40, 40)\n",
    "# orientation = np.zeros((40, 40))\n",
    "\n",
    "anisotropy = np.zeros((40, 40)) + 1\n",
    "orientation = np.zeros((40, 40))"
   ]
  },
  {
   "cell_type": "code",
   "execution_count": null,
   "metadata": {},
   "outputs": [],
   "source": [
    "plt.imshow(anisotropy)"
   ]
  },
  {
   "cell_type": "code",
   "execution_count": null,
   "metadata": {},
   "outputs": [],
   "source": [
    "def return_smooth(orientation, anisotropy):\n",
    "    U, V =  anisotropy*np.cos(2 * orientation), anisotropy*np.sin(2 * orientation)\n",
    "    USmooth = nanRobustBlur(U, (5, 5)) # plot smoothed vector field\n",
    "    VSmooth = nanRobustBlur(V, (5, 5)) # plot smoothed vector field\n",
    "    azimuthSmooth = (0.5*np.arctan2(VSmooth,USmooth)) % np.pi\n",
    "    RSmooth = np.sqrt(USmooth**2+VSmooth**2)\n",
    "    \n",
    "    return RSmooth, azimuthSmooth"
   ]
  },
  {
   "cell_type": "code",
   "execution_count": null,
   "metadata": {},
   "outputs": [],
   "source": [
    "anisotropy, orientation = return_smooth(orientation, anisotropy)"
   ]
  },
  {
   "cell_type": "code",
   "execution_count": null,
   "metadata": {},
   "outputs": [],
   "source": [
    "def return_D(position):\n",
    "    scale_value = anisotropy[position[0]][position[1]]\n",
    "    theta = orientation[position[0]][position[1]]\n",
    "    \n",
    "    if abs(scale_value) > 1:\n",
    "        scale_matrix = np.matrix([[scale_value, 0], [0, 1]])\n",
    "    else:\n",
    "        scale_matrix = np.matrix([[1, 0], [0, scale_value]])\n",
    "    \n",
    "    angle_matrix = np.matrix([[np.cos(theta), -np.sin(theta)], [np.sin(theta), np.cos(theta)]])\n",
    "    angle_matrix_2 = np.matrix([[np.cos(theta), np.sin(theta)], [-np.sin(theta), np.cos(theta)]])\n",
    "    \n",
    "    D_matrix = np.matmul(np.matmul(angle_matrix, scale_matrix), angle_matrix_2)\n",
    "    \n",
    "    return D_matrix"
   ]
  },
  {
   "cell_type": "code",
   "execution_count": null,
   "metadata": {},
   "outputs": [],
   "source": [
    "memory_inverse = {}"
   ]
  },
  {
   "cell_type": "code",
   "execution_count": null,
   "metadata": {},
   "outputs": [],
   "source": [
    "D1 = np.zeros_like(anisotropy, dtype=np.float32)\n",
    "D2 = np.zeros_like(anisotropy, dtype=np.float32)\n",
    "D3 = np.zeros_like(anisotropy, dtype=np.float32)\n",
    "D4 = np.zeros_like(anisotropy, dtype=np.float32)\n",
    "\n",
    "x = np.arange(0, anisotropy.shape[0], 1)\n",
    "y = np.arange(0, anisotropy.shape[1], 1)\n",
    "\n",
    "for i in x:\n",
    "    for j in y:\n",
    "        scale_matrix = return_D([i, j])\n",
    "        memory_inverse[(i, j)] = np.linalg.inv(scale_matrix)\n",
    "\n",
    "        D1[i, j] = scale_matrix[0, 0]\n",
    "        D2[i, j] = scale_matrix[0, 1]\n",
    "        D3[i, j] = scale_matrix[1, 0]\n",
    "        D4[i, j] = scale_matrix[1, 1]"
   ]
  },
  {
   "cell_type": "code",
   "execution_count": null,
   "metadata": {},
   "outputs": [],
   "source": [
    "from scipy import interpolate"
   ]
  },
  {
   "cell_type": "code",
   "execution_count": null,
   "metadata": {},
   "outputs": [],
   "source": [
    "plt.imshow(D1)"
   ]
  },
  {
   "cell_type": "code",
   "execution_count": null,
   "metadata": {},
   "outputs": [],
   "source": [
    "D1_interp = interpolate.interp2d(x, y, D1.T, kind='cubic')\n",
    "D2_interp = interpolate.interp2d(x, y, D2.T, kind='cubic')\n",
    "D3_interp = interpolate.interp2d(x, y, D3.T, kind='cubic')\n",
    "D4_interp = interpolate.interp2d(x, y, D4.T, kind='cubic')"
   ]
  },
  {
   "cell_type": "code",
   "execution_count": null,
   "metadata": {},
   "outputs": [],
   "source": [
    "def return_D_interp_list(positions):\n",
    "    \n",
    "    matrices = []\n",
    "    \n",
    "    for position in positions:\n",
    "        D1_value = D1_interp(position[0], position[1])[0]\n",
    "        D2_value = D2_interp(position[0], position[1])[0]\n",
    "        D3_value = D3_interp(position[0], position[1])[0]\n",
    "        D4_value = D4_interp(position[0], position[1])[0]\n",
    "        \n",
    "        matrices.append([[D1_value, D2_value], [D3_value, D4_value]])\n",
    "            \n",
    "    return np.stack(matrices, axis=0)"
   ]
  },
  {
   "cell_type": "code",
   "execution_count": null,
   "metadata": {},
   "outputs": [],
   "source": [
    "def return_D_interp(position):\n",
    "    D1_value = D1_interp(position[0], position[1])[0]\n",
    "    D2_value = D2_interp(position[0], position[1])[0]\n",
    "    D3_value = D3_interp(position[0], position[1])[0]\n",
    "    D4_value = D4_interp(position[0], position[1])[0]\n",
    "    \n",
    "    return np.matrix([[D1_value, D2_value], [D3_value, D4_value]])"
   ]
  },
  {
   "cell_type": "code",
   "execution_count": null,
   "metadata": {},
   "outputs": [],
   "source": [
    "D1_int = np.zeros_like(anisotropy, dtype=np.float32)\n",
    "D2_int = np.zeros_like(anisotropy, dtype=np.float32)\n",
    "D3_int = np.zeros_like(anisotropy, dtype=np.float32)\n",
    "D4_int = np.zeros_like(anisotropy, dtype=np.float32)\n",
    "\n",
    "for i in x:\n",
    "    for j in y:\n",
    "        scale_matrix = return_D_interp([i, j])\n",
    "\n",
    "        D1_int[i, j] = scale_matrix[0, 0]\n",
    "        D2_int[i, j] = scale_matrix[0, 1]\n",
    "        D3_int[i, j] = scale_matrix[1, 0]\n",
    "        D4_int[i, j] = scale_matrix[1, 1]"
   ]
  },
  {
   "cell_type": "code",
   "execution_count": null,
   "metadata": {},
   "outputs": [],
   "source": [
    "plt.imshow(D1_int)"
   ]
  },
  {
   "cell_type": "code",
   "execution_count": null,
   "metadata": {},
   "outputs": [],
   "source": [
    "gamma = 0.5\n",
    "def force_function(r):\n",
    "    if 0 < r < 1:\n",
    "        return r - 1\n",
    "    elif 1 <= r <= 1 + gamma:\n",
    "        return ((r-1)*(1+gamma-r)**2)/gamma**2\n",
    "    elif r > 1 + gamma:\n",
    "        return 0"
   ]
  },
  {
   "cell_type": "code",
   "execution_count": null,
   "metadata": {},
   "outputs": [],
   "source": [
    "gamma = 0.5\n",
    "def force_function_list(r):\n",
    "    \n",
    "    mask_1 = np.logical_and(r < 1, r > 0)\n",
    "    mask_2 = np.logical_and(r >= 1, r <= 1 + gamma)\n",
    "    mask_3 = r > 1+gamma\n",
    "    \n",
    "    return mask_1*(r-1) + mask_2*(((r-1)*(1+gamma-r)**2)/gamma**2) + mask_3*(0)"
   ]
  },
  {
   "cell_type": "code",
   "execution_count": null,
   "metadata": {},
   "outputs": [],
   "source": [
    "def return_D_inverse(pos_a, pos_b, approx=True):\n",
    "    if approx:\n",
    "        pos_a = ([int(x) for x in pos_a])\n",
    "        pos_b = ([int(x) for x in pos_b])\n",
    "        pos_a = (pos_a[0], pos_a[1])\n",
    "        pos_b = (pos_b[0], pos_b[1])\n",
    "        \n",
    "        if pos_a not in memory_inverse.keys() and pos_b not in memory_inverse.keys():\n",
    "            D_inverse_ab = np.identity(2)\n",
    "        elif pos_a not in memory_inverse.keys():\n",
    "            D_inverse_ab = memory_inverse[pos_b]\n",
    "        elif pos_b not in memory_inverse.keys():\n",
    "            D_inverse_ab = memory_inverse[pos_a]\n",
    "        else:\n",
    "            D_inverse_ab = (memory_inverse[pos_a] + memory_inverse[pos_b])/2.0\n",
    "\n",
    "        return D_inverse_ab\n",
    "    else:\n",
    "        mid_pos = tuple(np.add(pos_a, pos_b)/2.0)\n",
    "        D_ab = return_D_interp(mid_pos)\n",
    "        \n",
    "        return np.linalg.inv(D_ab)"
   ]
  },
  {
   "cell_type": "code",
   "execution_count": null,
   "metadata": {},
   "outputs": [],
   "source": [
    "def return_D_inverse_list(pos_a, pos_b_positions, approx=True):\n",
    "    inverses = []\n",
    "    if approx:\n",
    "        for pos_b in pos_b_positions:\n",
    "            inverses.append(return_D_inverse(pos_a, pos_b, approx))\n",
    "            \n",
    "        return inverses\n",
    "    else:\n",
    "        mid_positions = np.add(pos_a, pos_b_positions)/2.0      \n",
    "        D_ab_list = return_D_interp_list(mid_positions)\n",
    "        identity = np.identity(D_ab_list[0].shape[1], dtype=D_ab_list[0].dtype)\n",
    "        \n",
    "        return np.array([np.linalg.solve(x, identity) for x in D_ab_list])"
   ]
  },
  {
   "cell_type": "code",
   "execution_count": null,
   "metadata": {},
   "outputs": [],
   "source": [
    "alpha = 1000.0\n",
    "def return_x_ab(pos_a, pos_b, approx=True):\n",
    "    D_inv_ab = return_D_inverse(pos_a, pos_b, approx)\n",
    "    \n",
    "    pos_a = np.asarray(pos_a, dtype='float32')\n",
    "    pos_b = np.asarray(pos_b, dtype='float32')\n",
    "    y_ab = pos_a - pos_b\n",
    "    y_ab = y_ab.reshape((2, 1))\n",
    "    \n",
    "    return D_inv_ab.dot(y_ab)/(2*alpha), D_inv_ab"
   ]
  },
  {
   "cell_type": "code",
   "execution_count": null,
   "metadata": {},
   "outputs": [],
   "source": [
    "def return_x_ab_list(pos_a, pos_b_positions, approx=True):\n",
    "    \n",
    "    D_inv_ab_stack = return_D_inverse_list(pos_a, pos_b_positions, approx)\n",
    "    pos_a = np.asarray(pos_a, dtype='float32')\n",
    "    pos_b = np.asarray(pos_b_positions, dtype='float32')\n",
    "    \n",
    "    y_ab_stack = pos_a - pos_b_positions\n",
    "    y_ab_stack = y_ab_stack.reshape(len(pos_b_positions), 2, 1)\n",
    "    \n",
    "    return np.diagonal(np.dot(D_inv_ab_stack, y_ab_stack)[:,:,:,0], axis1=0, axis2=2)/(2*alpha), D_inv_ab_stack"
   ]
  },
  {
   "cell_type": "code",
   "execution_count": null,
   "metadata": {},
   "outputs": [],
   "source": [
    "def return_force(pos_a, pos_b, approx=True):\n",
    "    \n",
    "    print(memory_force)\n",
    "    \n",
    "    if (pos_a, pos_b) in memory_force.keys():\n",
    "        return memory_force[(pos_a, pos_b)]\n",
    "    elif (pos_b, pos_a) in memory_force.keys():\n",
    "        return -memory_force[(pos_b, pos_a)]\n",
    "    else:\n",
    "        print(\"Hello\")\n",
    "        x_ab, D_inv_ab = return_x_ab(pos_a, pos_b, approx)\n",
    "        x_ab_dist = LA.norm(x_ab)        \n",
    "        memory_force[(pos_a, pos_b)] = (-force_function(x_ab_dist)*D_inv_ab.dot(x_ab))/(2*alpha*x_ab_dist)\n",
    "        \n",
    "        return memory_force[(pos_a, pos_b)]"
   ]
  },
  {
   "cell_type": "code",
   "execution_count": null,
   "metadata": {},
   "outputs": [],
   "source": [
    "def return_total_force(pos_a, pos_b_positions, approx=True):\n",
    "    \n",
    "    total_force = np.zeros((2, 1))\n",
    "    not_in_memory_pos = []\n",
    "    \n",
    "    for pos_b in pos_b_positions:\n",
    "        if (pos_a, pos_b) in memory_force.keys():\n",
    "            total_force += memory_force[(pos_a, pos_b)]\n",
    "        elif (pos_b, pos_a) in memory_force.keys():\n",
    "            total_force += -memory_force[(pos_b, pos_a)]\n",
    "        else:\n",
    "            not_in_memory_pos.append(pos_b)\n",
    "\n",
    "    x_ab_list, D_inv_ab_stack = return_x_ab_list(pos_a, not_in_memory_pos, approx)\n",
    "    x_ab_dist_list = LA.norm(x_ab_list, axis=0)\n",
    "    \n",
    "    mult = np.transpose(x_ab_list).reshape(x_ab_list.shape[1], x_ab_list.shape[0], 1)\n",
    "    \n",
    "    force_list = force_function_list(x_ab_dist_list)*np.diagonal(np.dot(D_inv_ab_stack, mult)[:,:,:,0], axis1=0, axis2=2)/(2*alpha*x_ab_dist_list)\n",
    "\n",
    "    total_force += np.sum(force_list, axis = 1).reshape((2, 1))\n",
    "    return total_force"
   ]
  },
  {
   "cell_type": "code",
   "execution_count": null,
   "metadata": {},
   "outputs": [],
   "source": [
    "def return_total_force_alter(pos_a, pos_b_positions, approx=True):\n",
    "    total_force = np.zeros((2, 1))\n",
    "    not_in_memory_pos = []\n",
    "    D_inverse_list = []\n",
    "    \n",
    "    identity = np.identity(2, dtype=float)\n",
    "    \n",
    "    for pos_b in pos_b_positions:\n",
    "        if (pos_a, pos_b) in memory_force.keys():\n",
    "            total_force += memory_force[(pos_a, pos_b)]\n",
    "        elif (pos_b, pos_a) in memory_force.keys():\n",
    "            total_force += -memory_force[(pos_b, pos_a)]\n",
    "        else:\n",
    "            if pos_b != pos_a:\n",
    "                not_in_memory_pos.append(pos_b)\n",
    "\n",
    "                if approx:\n",
    "                    D_inverse_list.append(return_D_inverse(pos_a, pos_b, approx))\n",
    "                else:\n",
    "                    position = tuple(np.add(pos_a, pos_b)/2.0)\n",
    "\n",
    "                    D1_value = D1_interp(position[0], position[1])[0]\n",
    "                    D2_value = D2_interp(position[0], position[1])[0]\n",
    "                    D3_value = D3_interp(position[0], position[1])[0]\n",
    "                    D4_value = D4_interp(position[0], position[1])[0]\n",
    "\n",
    "                    matrix = np.array([[D1_value, D2_value], [D3_value, D4_value]])\n",
    "\n",
    "                    D_inverse_list.append(np.linalg.solve(matrix, identity))\n",
    "    \n",
    "    if len(not_in_memory_pos) > 0:\n",
    "        D_inverse_list = np.array(D_inverse_list)\n",
    "\n",
    "        pos_a_np = np.asarray(pos_a, dtype='float32')\n",
    "\n",
    "        y_ab_stack = pos_a_np - not_in_memory_pos\n",
    "        y_ab_stack = y_ab_stack.reshape(len(not_in_memory_pos), 2, 1)\n",
    "\n",
    "        x_ab_list = np.transpose(np.einsum('ijk,ikl->ijl', D_inverse_list, y_ab_stack)[:,:,0])/(2*alpha)\n",
    "        x_ab_dist_list = LA.norm(x_ab_list, axis=0)\n",
    "\n",
    "        mult = np.transpose(x_ab_list).reshape(x_ab_list.shape[1], x_ab_list.shape[0], 1)\n",
    "        force_list = -force_function_list(x_ab_dist_list)*np.transpose(np.einsum('ijk,ikl->ijl', D_inverse_list, mult)[:,:,0])/(2*alpha*x_ab_dist_list)\n",
    "        missed_points = list(zip(cycle([pos_a]), not_in_memory_pos))\n",
    "        memory_force.update(zip(missed_points, list(np.transpose(force_list).reshape((len(not_in_memory_pos), 2, 1)))))\n",
    "\n",
    "        total_force += np.sum(force_list, axis = 1).reshape((2, 1))   \n",
    "            \n",
    "    return total_force"
   ]
  },
  {
   "cell_type": "code",
   "execution_count": null,
   "metadata": {},
   "outputs": [],
   "source": [
    "# memory_force = {}\n",
    "\n",
    "# pos_a = (1.0, 1.0)\n",
    "# pos_b_positions = []\n",
    "\n",
    "# num_points = 100\n",
    "\n",
    "# for i in range(num_points):\n",
    "#     pos_b_positions.append((random.uniform(0, 40), random.uniform(0, 40)))\n",
    "\n",
    "# start = time.time()\n",
    "# tf = np.zeros((2, 1))\n",
    "\n",
    "# for i in range(num_points):\n",
    "#     tf += return_force(pos_a, pos_b_positions[i], approx=False)\n",
    "\n",
    "# print(tf)\n",
    "# end = time.time()\n",
    "# print(end - start)"
   ]
  },
  {
   "cell_type": "code",
   "execution_count": null,
   "metadata": {},
   "outputs": [],
   "source": [
    "# memory_force = {}\n",
    "\n",
    "# import time\n",
    "\n",
    "# start = time.time()\n",
    "# print(return_total_force_alter(pos_a, pos_b_positions, approx=False))\n",
    "# end = time.time()\n",
    "# print(end - start)"
   ]
  },
  {
   "cell_type": "code",
   "execution_count": null,
   "metadata": {},
   "outputs": [],
   "source": [
    "initial_num_points = 800\n",
    "final_points = 500\n",
    "random_rows = np.random.choice(anisotropy.shape[0], initial_num_points)\n",
    "random_columns = np.random.choice(anisotropy.shape[1], initial_num_points)\n",
    "random_points = list(zip(random_rows, random_columns))"
   ]
  },
  {
   "cell_type": "code",
   "execution_count": null,
   "metadata": {},
   "outputs": [],
   "source": [
    "det_D_list = [np.linalg.det(return_D_interp(pos)) for pos in random_points]\n",
    "max_det = max(det_D_list)\n",
    "det_D_list = [x/max_det for x in det_D_list]\n",
    "points_rejected = np.random.choice(len(random_points), initial_num_points - final_points, det_D_list)\n",
    "final_points = [random_points[i] for i in range(len(random_points)) if i not in points_rejected]"
   ]
  },
  {
   "cell_type": "code",
   "execution_count": null,
   "metadata": {},
   "outputs": [],
   "source": [
    "eig_D = [max(np.linalg.eig(return_D_interp(pos))[0]) for pos in random_points]\n",
    "max_eig = max(eig_D)"
   ]
  },
  {
   "cell_type": "code",
   "execution_count": null,
   "metadata": {},
   "outputs": [],
   "source": [
    "edge_length = 2*alpha*max_eig*(1+gamma)\n",
    "\n",
    "def bin_coords(pos):\n",
    "    x_coord = np.floor(pos[0]/edge_length)\n",
    "    y_coord = np.floor(pos[1]/edge_length)\n",
    "    \n",
    "    return (x_coord, y_coord)"
   ]
  },
  {
   "cell_type": "code",
   "execution_count": null,
   "metadata": {},
   "outputs": [],
   "source": [
    "curr_points = final_points\n",
    "\n",
    "def form_dict(points):\n",
    "    dict_points = {}\n",
    "\n",
    "    for point in points:\n",
    "        bin_coord = bin_coords(point)\n",
    "\n",
    "        if bin_coord in dict_points.keys():\n",
    "            dict_points[bin_coord].append(point)\n",
    "        else:\n",
    "            dict_points[bin_coord] = [point]\n",
    "    \n",
    "    return dict_points"
   ]
  },
  {
   "cell_type": "code",
   "execution_count": null,
   "metadata": {},
   "outputs": [],
   "source": [
    "def total_force_on_point(index, list_points, map_points, approx=True):\n",
    "    p_a = list_points[index]\n",
    "    bin_coord = bin_coords(p_a)\n",
    "    bin_x = bin_coord[0]\n",
    "    bin_y = bin_coord[1]\n",
    "\n",
    "    points_cons = []\n",
    "\n",
    "    points_cons += map_points[bin_coord]\n",
    "\n",
    "    if bin_x - 1 >= 0:\n",
    "        if (bin_x - 1, bin_y) in map_points.keys():\n",
    "            points_cons += map_points[(bin_x - 1, bin_y)]\n",
    "\n",
    "    if bin_y - 1 >= 0:\n",
    "        if (bin_x, bin_y - 1) in map_points.keys():\n",
    "            points_cons += map_points[(bin_x, bin_y - 1)]\n",
    "\n",
    "    if bin_x + 1 < anisotropy.shape[0]:\n",
    "        if (bin_x + 1, bin_y) in map_points.keys():\n",
    "            points_cons += map_points[(bin_x + 1, bin_y)]\n",
    "\n",
    "    if bin_y + 1 < anisotropy.shape[1]:\n",
    "        if (bin_x, bin_y + 1) in map_points.keys():\n",
    "            points_cons += map_points[(bin_x, bin_y + 1)]\n",
    "    \n",
    "    total_force = return_total_force_alter(p_a, points_cons, approx)\n",
    "    \n",
    "    total_force_alter = np.zeros((2, 1))\n",
    "    \n",
    "    for point in points_cons:\n",
    "        if point != p_a:\n",
    "            f = return_force(p_a, point, approx)\n",
    "            total_force_alter += f\n",
    "            \n",
    "    diff = LA.norm(total_force_alter - total_force)\n",
    "\n",
    "    return total_force_alter, len(points_cons), diff"
   ]
  },
  {
   "cell_type": "code",
   "execution_count": null,
   "metadata": {},
   "outputs": [],
   "source": [
    "def diff_equation(y, t, c_drag, total_force):\n",
    "    p0, p1, r0, r1 = y\n",
    "    dydt = [r0, r1, total_force[0] - c_drag*r0, total_force[1] - c_drag*r1]\n",
    "    return dydt\n",
    "\n",
    "def solve_particle_path(index, initial_pos, map_points, time_integrate, approx=True):\n",
    "    c_drag = 1.0\n",
    "    y0 = [initial_pos[index][0], initial_pos[index][1], 0.0, 0.0]\n",
    "    \n",
    "    t = np.linspace(0, time_integrate, 10)\n",
    "    \n",
    "    tf, tot_points, diff = total_force_on_point(index, initial_pos, map_points, approx)\n",
    "    \n",
    "    start_int = time.clock()\n",
    "    sol = odeint(diff_equation, y0, t, args=(c_drag, tf))\n",
    "    \n",
    "    return sol, tot_points, diff"
   ]
  },
  {
   "cell_type": "code",
   "execution_count": null,
   "metadata": {},
   "outputs": [],
   "source": [
    "num_iterations = 40\n",
    "map_points = form_dict(curr_points)\n",
    "max_time = 5.0\n",
    "min_time = 1.0\n",
    "\n",
    "slope = (max_time - min_time)/(1 - num_iterations)\n",
    "constant = (num_iterations*max_time - min_time)/(num_iterations - 1)\n",
    "\n",
    "start_algo = time.clock()\n",
    "for k in range(num_iterations):\n",
    "    start_iteration = time.clock()\n",
    "    final_positions = []\n",
    "    num_particles = 0\n",
    "    total_dist = 0\n",
    "    new_map_points = {}\n",
    "    avg_total_points = 0\n",
    "    memory_force = {}\n",
    "    total_diff = 0\n",
    "\n",
    "    for i in range(len(curr_points)):\n",
    "        time_integrate = slope*k + constant\n",
    "        \n",
    "        if k < -1:\n",
    "            sol, tot_points, diff = solve_particle_path(i, curr_points, map_points, time_integrate, approx=True)\n",
    "        else:\n",
    "            sol, tot_points, diff = solve_particle_path(i, curr_points, map_points, time_integrate, approx=False)\n",
    "        \n",
    "        total_diff += diff\n",
    "        plt.plot(sol[:,0], sol[:,1])\n",
    "        plt.scatter(sol[-1, 0], sol[-1, 1], s=5)\n",
    "        \n",
    "        if sol[-1, 0] >= -10 and sol[-1, 0] <= anisotropy.shape[0] + 10 and \\\n",
    "           sol[-1, 1] >= -10 and sol[-1, 1] <= anisotropy.shape[1] + 10:\n",
    "            final_positions.append((sol[-1, 0], sol[-1, 1]))\n",
    "            num_particles += 1\n",
    "            avg_total_points += tot_points\n",
    "            total_dist += LA.norm(np.array([sol[-1, 0], sol[-1, 1]]) - np.array([sol[0, 0], sol[0, 1]]))     \n",
    "\n",
    "            new_bin_coord = bin_coords((sol[-1, 0], sol[-1, 1]))\n",
    "\n",
    "            if new_bin_coord in new_map_points.keys():\n",
    "                new_map_points[new_bin_coord].append((sol[-1, 0], sol[-1, 1]))\n",
    "            else:\n",
    "                new_map_points[new_bin_coord] = [(sol[-1, 0], sol[-1, 1])]\n",
    "    \n",
    "    if k%4 == 0: \n",
    "        print(\"Distances moved by particle:\", total_dist/num_particles)\n",
    "        print(\"Number of particles:\", num_particles)\n",
    "        print(\"Number of particles for force:\", avg_total_points/num_particles)\n",
    "        end_iteration = time.clock()\n",
    "        print(\"Time taken for iteration: \", end_iteration - start_iteration)\n",
    "        print(\"Total diff: \", total_diff)\n",
    "        print(\"\")\n",
    "    \n",
    "    curr_points = final_positions\n",
    "    map_points = new_map_points\n",
    "\n",
    "end_algo = time.clock()\n",
    "\n",
    "print(\"Total time taken: \", end_algo - start_algo)"
   ]
  },
  {
   "cell_type": "code",
   "execution_count": null,
   "metadata": {},
   "outputs": [],
   "source": [
    "final_positions = np.array(final_positions)\n",
    "final_positions = np.around(final_positions, decimals=0)"
   ]
  },
  {
   "cell_type": "code",
   "execution_count": null,
   "metadata": {},
   "outputs": [],
   "source": [
    "for i in range(len(final_positions)):\n",
    "    if final_positions[i][0] >= 0 and final_positions[i][0] <= anisotropy.shape[0] and final_positions[i][1] >= 0 and final_positions[i][1] <= anisotropy.shape[1]:\n",
    "        plt.scatter(final_positions[i][0], final_positions[i][1], s=20)"
   ]
  },
  {
   "cell_type": "code",
   "execution_count": null,
   "metadata": {},
   "outputs": [],
   "source": [
    "USmooth, VSmooth = anisotropy*np.cos(orientation), anisotropy*np.sin(orientation)\n",
    "final_positions = final_positions.astype(int)"
   ]
  },
  {
   "cell_type": "code",
   "execution_count": null,
   "metadata": {},
   "outputs": [],
   "source": [
    "Plotting_X = []\n",
    "Plotting_Y = []\n",
    "Plotting_U = []\n",
    "Plotting_V = []\n",
    "Plotting_orient = []\n",
    "\n",
    "USmooth = USmooth*0.1\n",
    "VSmooth = VSmooth*0.1\n",
    "\n",
    "for i in range(len(final_positions)):\n",
    "    if final_positions[i][0] >= 0 and final_positions[i][0] < anisotropy.shape[0] and final_positions[i][1] >= 0 and final_positions[i][1] < anisotropy.shape[1]:\n",
    "        Plotting_X.append(final_positions[i][0])\n",
    "        Plotting_Y.append(final_positions[i][1])\n",
    "        Plotting_U.append(USmooth[final_positions[i][0], final_positions[i][1]])\n",
    "        Plotting_V.append(VSmooth[final_positions[i][0], final_positions[i][1]])\n",
    "        Plotting_orient.append(orientation[final_positions[i][0], final_positions[i][1]])     \n",
    "\n",
    "Plotting_color = Plotting_orient"
   ]
  },
  {
   "cell_type": "code",
   "execution_count": null,
   "metadata": {},
   "outputs": [],
   "source": [
    "cmapImage = 'gray'\n",
    "cmapOrient = 'hsv'\n",
    "linecolor = 'g'\n",
    "alpha = 0.6\n",
    "linewidth = 0.5\n",
    "\n",
    "im_ax = plt.imshow(anisotropy, cmap=cmapImage)\n",
    "plt.title('Orientation')\n",
    "plt.quiver(Plotting_Y, Plotting_X,\n",
    "           Plotting_U, Plotting_V, Plotting_color,\n",
    "           cmap=cmapOrient,\n",
    "           edgecolor=linecolor, facecolor=linecolor, units='xy', alpha=alpha, width=linewidth,\n",
    "           headwidth=0, headlength=0, headaxislength=0,\n",
    "           scale_units = 'xy', scale = 1, angles = 'uv', pivot = 'mid')"
   ]
  },
  {
   "cell_type": "code",
   "execution_count": null,
   "metadata": {},
   "outputs": [],
   "source": [
    "nY, nX = anisotropy.shape\n",
    "Y, X = np.mgrid[0:nY,0:nX] # notice the reversed order of X and Y\n",
    "spacing = 2\n",
    "    \n",
    "# Sample variables at the specified spacing.\n",
    "Plotting_X = X[::spacing, ::spacing]\n",
    "Plotting_Y = Y[::spacing, ::spacing]\n",
    "Plotting_U = USmooth[::spacing, ::spacing]\n",
    "Plotting_V = VSmooth[::spacing, ::spacing]\n",
    "\n",
    "threshold = np.ones_like(X) # no threshold\n",
    "Plotting_thres = threshold[::spacing, ::spacing]\n",
    "Plotting_orient=orientation[::spacing, ::spacing]\n",
    "\n",
    "thresholdIdx = Plotting_thres==1\n",
    "Plotting_X=Plotting_X[thresholdIdx]\n",
    "Plotting_Y=Plotting_Y[thresholdIdx]\n",
    "Plotting_U=Plotting_U[thresholdIdx]\n",
    "Plotting_V=Plotting_V[thresholdIdx]\n",
    "Plotting_orient=Plotting_orient[thresholdIdx]\n",
    "Plotting_color=Plotting_orient"
   ]
  },
  {
   "cell_type": "code",
   "execution_count": null,
   "metadata": {},
   "outputs": [],
   "source": [
    "im_ax = plt.imshow(anisotropy, cmap=cmapImage)\n",
    "plt.title('Orientation')\n",
    "plt.quiver(Plotting_X, Plotting_Y,\n",
    "           Plotting_U, Plotting_V, Plotting_color,\n",
    "           cmap=cmapOrient,\n",
    "           edgecolor=linecolor, facecolor=linecolor, units='xy', alpha=alpha, width=linewidth,\n",
    "           headwidth=0, headlength=0, headaxislength=0,\n",
    "           scale_units = 'xy', scale = 1, angles = 'uv', pivot = 'mid')"
   ]
  },
  {
   "cell_type": "code",
   "execution_count": null,
   "metadata": {},
   "outputs": [],
   "source": [
    "USmooth, VSmooth = anisotropy*np.cos(orientation), anisotropy*np.sin(orientation)\n",
    "\n",
    "Plotting_X = []\n",
    "Plotting_Y = []\n",
    "Plotting_U = []\n",
    "Plotting_V = []\n",
    "Plotting_orient = []\n",
    "\n",
    "USmooth = USmooth*0.1\n",
    "VSmooth = VSmooth*0.1\n",
    "\n",
    "for i in range(len(final_points)):\n",
    "        Plotting_X.append(final_points[i][0])\n",
    "        Plotting_Y.append(final_points[i][1])\n",
    "        Plotting_U.append(USmooth[final_points[i][0], final_points[i][1]])\n",
    "        Plotting_V.append(VSmooth[final_points[i][0], final_points[i][1]])\n",
    "        Plotting_orient.append(orientation[final_points[i][0], final_points[i][1]])     \n",
    "\n",
    "Plotting_color = Plotting_orient"
   ]
  },
  {
   "cell_type": "code",
   "execution_count": null,
   "metadata": {},
   "outputs": [],
   "source": [
    "cmapImage = 'gray'\n",
    "cmapOrient = 'hsv'\n",
    "linecolor = 'g'\n",
    "alpha = 0.6\n",
    "linewidth = 0.5\n",
    "\n",
    "im_ax = plt.imshow(anisotropy, cmap=cmapImage)\n",
    "plt.title('Orientation')\n",
    "plt.quiver(Plotting_Y, Plotting_X,\n",
    "           Plotting_U, Plotting_V, Plotting_color,\n",
    "           cmap=cmapOrient,\n",
    "           edgecolor=linecolor, facecolor=linecolor, units='xy', alpha=alpha, width=linewidth,\n",
    "           headwidth=0, headlength=0, headaxislength=0,\n",
    "           scale_units = 'xy', scale = 1, angles = 'uv', pivot = 'mid')"
   ]
  },
  {
   "cell_type": "code",
   "execution_count": null,
   "metadata": {},
   "outputs": [],
   "source": [
    "A = np.array([[1,2],[3,4]])\n",
    "x = np.array([[1, 2]]).reshape((2, 1))\n",
    "\n",
    "B = np.array([[1,3],[3,5]])\n",
    "y = np.array([[1, 3]]).reshape((2, 1))"
   ]
  },
  {
   "cell_type": "code",
   "execution_count": null,
   "metadata": {},
   "outputs": [],
   "source": [
    "A.dot(x)"
   ]
  },
  {
   "cell_type": "code",
   "execution_count": null,
   "metadata": {},
   "outputs": [],
   "source": [
    "C = np.stack((A, B))"
   ]
  },
  {
   "cell_type": "code",
   "execution_count": null,
   "metadata": {},
   "outputs": [],
   "source": [
    "Z = np.stack((x, y))"
   ]
  },
  {
   "cell_type": "code",
   "execution_count": null,
   "metadata": {},
   "outputs": [],
   "source": [
    "Z.shape"
   ]
  },
  {
   "cell_type": "code",
   "execution_count": null,
   "metadata": {},
   "outputs": [],
   "source": [
    "np.dot(C, Z)[np.arange(2),:,np.arange(2),0]"
   ]
  },
  {
   "cell_type": "code",
   "execution_count": null,
   "metadata": {},
   "outputs": [],
   "source": [
    "np.diagonal(np.dot(C, Z)[:,:,:,0], axis1=0, axis2=2)"
   ]
  },
  {
   "cell_type": "code",
   "execution_count": null,
   "metadata": {},
   "outputs": [],
   "source": [
    "(C @ Z)[:,:,0]"
   ]
  },
  {
   "cell_type": "code",
   "execution_count": null,
   "metadata": {},
   "outputs": [],
   "source": [
    "np.transpose(np.einsum('ijk,ikl->ijl', C, Z)[:,:,0])"
   ]
  },
  {
   "cell_type": "code",
   "execution_count": null,
   "metadata": {},
   "outputs": [],
   "source": []
  }
 ],
 "metadata": {
  "kernelspec": {
   "display_name": "Python 3",
   "language": "python",
   "name": "python3"
  },
  "language_info": {
   "codemirror_mode": {
    "name": "ipython",
    "version": 3
   },
   "file_extension": ".py",
   "mimetype": "text/x-python",
   "name": "python",
   "nbconvert_exporter": "python",
   "pygments_lexer": "ipython3",
   "version": "3.6.10"
  }
 },
 "nbformat": 4,
 "nbformat_minor": 4
}
