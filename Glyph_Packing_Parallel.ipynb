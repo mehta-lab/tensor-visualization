{
 "cells": [
  {
   "cell_type": "code",
   "execution_count": null,
   "metadata": {
    "colab": {},
    "colab_type": "code",
    "id": "LN-qdfu2smuk"
   },
   "outputs": [],
   "source": [
    "# Parameters\n",
    "initial_num_points = 4000\n",
    "final_points = 3000\n",
    "alpha = 1000.0\n",
    "max_time = 20.0\n",
    "min_time = 10.0\n",
    "num_iterations = 40\n",
    "boundary = 30\n",
    "c_drag = 10.0\n",
    "image_size = 100"
   ]
  },
  {
   "cell_type": "code",
   "execution_count": null,
   "metadata": {
    "colab": {},
    "colab_type": "code",
    "id": "nthlf77qsmuq"
   },
   "outputs": [],
   "source": [
    "import numpy as np\n",
    "import matplotlib.pyplot as plt\n",
    "\n",
    "import tifffile as tf\n",
    "import os\n",
    "import numpy as np\n",
    "import matplotlib\n",
    "matplotlib.use('Agg')\n",
    "import matplotlib.pyplot as plt\n",
    "from matplotlib import cm\n",
    "import cv2\n",
    "from mpl_toolkits.axes_grid1 import make_axes_locatable\n",
    "from scipy.integrate import odeint\n",
    "import time\n",
    "from numpy import linalg as LA\n",
    "import random\n",
    "from itertools import cycle\n",
    "from scipy import interpolate\n",
    "import cv2\n",
    "import multiprocessing as mp\n",
    "\n",
    "%matplotlib inline\n",
    "\n",
    "def nanRobustBlur(I, dim):\n",
    "    V=I.copy()\n",
    "    V[I!=I]=0\n",
    "    VV=cv2.blur(V,dim)   \n",
    "    W=0*I.copy()+1\n",
    "    W[I!=I]=0\n",
    "    WW=cv2.blur(W,dim)    \n",
    "    Z=VV/WW\n",
    "    return Z \n",
    "\n",
    "anisotropy = cv2.imread('2d_data/img_retardance3D_t000_p000_z044.tif', -1).astype('float32')\n",
    "orientation = cv2.imread('2d_data/img_azimuth_t000_p000_z044.tif', -1).astype('float32')\n",
    "anisotropy = anisotropy[100:200, 100:200]\n",
    "orientation = orientation[100:200, 100:200]\n",
    "orientation = orientation / 18000*np.pi\n",
    "anisotropy = anisotropy / 10000\n",
    "\n",
    "def return_smooth(orientation, anisotropy):\n",
    "    U, V =  anisotropy*np.cos(2 * orientation), anisotropy*np.sin(2 * orientation)\n",
    "    USmooth = nanRobustBlur(U, (5, 5)) # plot smoothed vector field\n",
    "    VSmooth = nanRobustBlur(V, (5, 5)) # plot smoothed vector field\n",
    "    azimuthSmooth = (0.5*np.arctan2(VSmooth,USmooth)) % np.pi\n",
    "    RSmooth = np.sqrt(USmooth**2+VSmooth**2)\n",
    "    \n",
    "    return RSmooth, azimuthSmooth\n",
    "\n",
    "anisotropy, orientation = return_smooth(orientation, anisotropy)\n",
    "\n",
    "def return_D(position):\n",
    "    scale_value = anisotropy[position[0]][position[1]]\n",
    "    theta = orientation[position[0]][position[1]]\n",
    "    \n",
    "    if abs(scale_value) > 1:\n",
    "        scale_matrix = np.matrix([[scale_value, 0], [0, 1]])\n",
    "    else:\n",
    "        scale_matrix = np.matrix([[1, 0], [0, scale_value]])\n",
    "    \n",
    "    angle_matrix = np.matrix([[np.cos(theta), -np.sin(theta)], [np.sin(theta), np.cos(theta)]])\n",
    "    angle_matrix_2 = np.matrix([[np.cos(theta), np.sin(theta)], [-np.sin(theta), np.cos(theta)]])\n",
    "    \n",
    "    D_matrix = np.matmul(np.matmul(angle_matrix, scale_matrix), angle_matrix_2)\n",
    "    \n",
    "    return D_matrix\n",
    "\n",
    "memory_inverse = {}\n",
    "\n",
    "D1 = np.zeros_like(anisotropy, dtype=np.float32)\n",
    "D2 = np.zeros_like(anisotropy, dtype=np.float32)\n",
    "D3 = np.zeros_like(anisotropy, dtype=np.float32)\n",
    "D4 = np.zeros_like(anisotropy, dtype=np.float32)\n",
    "\n",
    "x = np.arange(0, anisotropy.shape[0], 1)\n",
    "y = np.arange(0, anisotropy.shape[1], 1)\n",
    "\n",
    "for i in x:\n",
    "    for j in y:\n",
    "        scale_matrix = return_D([i, j])\n",
    "        memory_inverse[(i, j)] = np.linalg.inv(scale_matrix)\n",
    "\n",
    "        D1[i, j] = scale_matrix[0, 0]\n",
    "        D2[i, j] = scale_matrix[0, 1]\n",
    "        D3[i, j] = scale_matrix[1, 0]\n",
    "        D4[i, j] = scale_matrix[1, 1]\n",
    "\n",
    "D1_interp = interpolate.interp2d(x, y, D1.T, kind='cubic')\n",
    "D2_interp = interpolate.interp2d(x, y, D2.T, kind='cubic')\n",
    "D3_interp = interpolate.interp2d(x, y, D3.T, kind='cubic')\n",
    "D4_interp = interpolate.interp2d(x, y, D4.T, kind='cubic')"
   ]
  },
  {
   "cell_type": "code",
   "execution_count": null,
   "metadata": {
    "colab": {
     "base_uri": "https://localhost:8080/",
     "height": 286
    },
    "colab_type": "code",
    "id": "tVFWjKcUsmuu",
    "outputId": "a6f8a421-afc9-4d76-dda3-d13004dc8fa9"
   },
   "outputs": [],
   "source": [
    "plt.imshow(D1)"
   ]
  },
  {
   "cell_type": "code",
   "execution_count": null,
   "metadata": {
    "colab": {},
    "colab_type": "code",
    "id": "e9TBJhVUsmux"
   },
   "outputs": [],
   "source": [
    "# plt.imshow(edges_y)"
   ]
  },
  {
   "cell_type": "code",
   "execution_count": null,
   "metadata": {
    "colab": {},
    "colab_type": "code",
    "id": "ctRMLe9osmu1"
   },
   "outputs": [],
   "source": [
    "def return_D_interp(position):\n",
    "    D1_value = D1_interp(position[0], position[1])[0]\n",
    "    D2_value = D2_interp(position[0], position[1])[0]\n",
    "    D3_value = D3_interp(position[0], position[1])[0]\n",
    "    D4_value = D4_interp(position[0], position[1])[0]\n",
    "    \n",
    "    return np.matrix([[D1_value, D2_value], [D3_value, D4_value]])"
   ]
  },
  {
   "cell_type": "code",
   "execution_count": null,
   "metadata": {
    "colab": {},
    "colab_type": "code",
    "id": "AZRvTPbEsmu4"
   },
   "outputs": [],
   "source": [
    "def return_D_inverse(pos_a, pos_b):\n",
    "    pos_a = ([int(x) for x in pos_a])\n",
    "    pos_b = ([int(x) for x in pos_b])\n",
    "    pos_a = (pos_a[0], pos_a[1])\n",
    "    pos_b = (pos_b[0], pos_b[1])\n",
    "\n",
    "    if pos_a not in memory_inverse.keys() and pos_b not in memory_inverse.keys():\n",
    "        D_inverse_ab = np.identity(2)\n",
    "    elif pos_a not in memory_inverse.keys():\n",
    "        D_inverse_ab = memory_inverse[pos_b]\n",
    "    elif pos_b not in memory_inverse.keys():\n",
    "        D_inverse_ab = memory_inverse[pos_a]\n",
    "    else:\n",
    "        D_inverse_ab = (memory_inverse[pos_a] + memory_inverse[pos_b])/2.0\n",
    "\n",
    "    return D_inverse_ab"
   ]
  },
  {
   "cell_type": "code",
   "execution_count": null,
   "metadata": {
    "colab": {},
    "colab_type": "code",
    "id": "61eXxbvlsmu7"
   },
   "outputs": [],
   "source": [
    "gamma = 0.5\n",
    "def force_function_list(r):\n",
    "    \n",
    "    mask_1 = np.logical_and(r < 1, r > 0)\n",
    "    mask_2 = np.logical_and(r >= 1, r <= 1 + gamma)\n",
    "    mask_3 = r > 1+gamma\n",
    "    \n",
    "    return mask_1*(r-1) + mask_2*(((r-1)*(1+gamma-r)**2)/gamma**2) + mask_3*(0)"
   ]
  },
  {
   "cell_type": "code",
   "execution_count": null,
   "metadata": {},
   "outputs": [],
   "source": [
    "from numba import jit, prange\n",
    "\n",
    "@jit(nopython=True)\n",
    "def invert_matrix(matrices):\n",
    "    inverted_list = np.empty_like(matrices)\n",
    "    \n",
    "    for i in prange(matrices.shape[0]):\n",
    "        inverted_list[i] = np.linalg.inv(matrices[i])\n",
    "\n",
    "    return inverted_list"
   ]
  },
  {
   "cell_type": "code",
   "execution_count": null,
   "metadata": {},
   "outputs": [],
   "source": [
    "def return_matrix(position):\n",
    "    D1_value = D1_interp(position[0], position[1])[0]\n",
    "    D2_value = D2_interp(position[0], position[1])[0]\n",
    "    D3_value = D3_interp(position[0], position[1])[0]\n",
    "    D4_value = D4_interp(position[0], position[1])[0]\n",
    "\n",
    "    matrix = np.array([[D1_value, D2_value], [D3_value, D4_value]])\n",
    "    \n",
    "    return matrix"
   ]
  },
  {
   "cell_type": "code",
   "execution_count": null,
   "metadata": {
    "colab": {},
    "colab_type": "code",
    "id": "QRb06BgTsmu-"
   },
   "outputs": [],
   "source": [
    "def return_total_force(pos_a, pos_b_positions, approx=True):\n",
    "    total_force = np.zeros((2, 1))\n",
    "    matrices = np.zeros((len(pos_b_positions), 2, 2))\n",
    "    identity = np.identity(2, dtype=float)\n",
    "    \n",
    "    if approx:\n",
    "        D_inverse_list = []\n",
    "        for pos_b in pos_b_positions:\n",
    "                D_inverse_list.append(return_D_inverse(pos_a, pos_b))\n",
    "\n",
    "        D_inverse_list = np.array(D_inverse_list)\n",
    "    else:            \n",
    "        positions = np.add(pos_a, pos_b_positions)/2.0\n",
    "        \n",
    "        for k in range(len(positions)):\n",
    "            matrices[k] = return_matrix(positions[k])\n",
    "        \n",
    "        D_inverse_list = invert_matrix(matrices)\n",
    "\n",
    "    pos_a_np = np.asarray(pos_a, dtype='float32')\n",
    "\n",
    "    y_ab_stack = pos_a_np - pos_b_positions\n",
    "    y_ab_stack = y_ab_stack.reshape(len(pos_b_positions), 2, 1)\n",
    "\n",
    "    x_ab_list = np.transpose(np.einsum('ijk,ikl->ijl', D_inverse_list, y_ab_stack, optimize='greedy')[:,:,0])/(2*alpha)\n",
    "    x_ab_dist_list = LA.norm(x_ab_list, axis=0) + 1e-5\n",
    "\n",
    "    mult = np.transpose(x_ab_list).reshape(x_ab_list.shape[1], x_ab_list.shape[0], 1)\n",
    "    force_list = -force_function_list(x_ab_dist_list)*np.transpose(np.einsum('ijk,ikl->ijl', D_inverse_list, mult, optimize='greedy')[:,:,0])/(2*alpha*x_ab_dist_list)\n",
    "    total_force += np.sum(force_list, axis = 1).reshape((2, 1))   \n",
    "            \n",
    "    return total_force"
   ]
  },
  {
   "cell_type": "code",
   "execution_count": null,
   "metadata": {
    "colab": {},
    "colab_type": "code",
    "id": "REGVI9MHsmvA"
   },
   "outputs": [],
   "source": [
    "random_rows = np.random.choice(anisotropy.shape[0], initial_num_points)\n",
    "random_columns = np.random.choice(anisotropy.shape[1], initial_num_points)\n",
    "random_points = list(zip(random_rows, random_columns))"
   ]
  },
  {
   "cell_type": "code",
   "execution_count": null,
   "metadata": {
    "colab": {},
    "colab_type": "code",
    "id": "kO2-FxFksmvD"
   },
   "outputs": [],
   "source": [
    "det_D_list = [np.linalg.det(return_D_interp(pos)) for pos in random_points]\n",
    "max_det = max(det_D_list)\n",
    "det_D_list = [x/max_det for x in det_D_list]\n",
    "points_rejected = np.random.choice(len(random_points), initial_num_points - final_points, det_D_list)\n",
    "final_points = [random_points[i] for i in range(len(random_points)) if i not in points_rejected]"
   ]
  },
  {
   "cell_type": "code",
   "execution_count": null,
   "metadata": {
    "colab": {},
    "colab_type": "code",
    "id": "2349MvrQsmvF"
   },
   "outputs": [],
   "source": [
    "eig_D = [max(np.linalg.eig(return_D_interp(pos))[0]) for pos in random_points]\n",
    "max_eig = max(eig_D)"
   ]
  },
  {
   "cell_type": "code",
   "execution_count": null,
   "metadata": {
    "colab": {},
    "colab_type": "code",
    "id": "_zUKfdwJsmvH"
   },
   "outputs": [],
   "source": [
    "edge_length = 2*alpha*max_eig*(1+gamma)\n",
    "\n",
    "def bin_coords(pos):\n",
    "    x_coord = np.floor(pos[0]/edge_length)\n",
    "    y_coord = np.floor(pos[1]/edge_length)\n",
    "    \n",
    "    return (x_coord, y_coord)"
   ]
  },
  {
   "cell_type": "code",
   "execution_count": null,
   "metadata": {
    "colab": {},
    "colab_type": "code",
    "id": "YeEfm7c1smvJ"
   },
   "outputs": [],
   "source": [
    "curr_points = final_points\n",
    "\n",
    "def form_dict(points):\n",
    "    dict_points = {}\n",
    "\n",
    "    for point in points:\n",
    "        bin_coord = bin_coords(point)\n",
    "\n",
    "        if bin_coord in dict_points.keys():\n",
    "            dict_points[bin_coord].append(point)\n",
    "        else:\n",
    "            dict_points[bin_coord] = [point]\n",
    "    \n",
    "    return dict_points"
   ]
  },
  {
   "cell_type": "code",
   "execution_count": null,
   "metadata": {
    "colab": {},
    "colab_type": "code",
    "id": "WwcjmzkYsmvL"
   },
   "outputs": [],
   "source": [
    "def total_force_on_point(index, list_points, map_points, approx=True):\n",
    "    p_a = list_points[index]\n",
    "    bin_coord = bin_coords(p_a)\n",
    "    bin_x = bin_coord[0]\n",
    "    bin_y = bin_coord[1]\n",
    "\n",
    "    points_cons = []\n",
    "\n",
    "    points_cons += map_points[bin_coord]\n",
    "\n",
    "    if bin_x - 1 >= 0:\n",
    "        if (bin_x - 1, bin_y) in map_points.keys():\n",
    "            points_cons += map_points[(bin_x - 1, bin_y)]\n",
    "\n",
    "    if bin_y - 1 >= 0:\n",
    "        if (bin_x, bin_y - 1) in map_points.keys():\n",
    "            points_cons += map_points[(bin_x, bin_y - 1)]\n",
    "\n",
    "    if bin_x + 1 < anisotropy.shape[0]:\n",
    "        if (bin_x + 1, bin_y) in map_points.keys():\n",
    "            points_cons += map_points[(bin_x + 1, bin_y)]\n",
    "\n",
    "    if bin_y + 1 < anisotropy.shape[1]:\n",
    "        if (bin_x, bin_y + 1) in map_points.keys():\n",
    "            points_cons += map_points[(bin_x, bin_y + 1)]\n",
    "    \n",
    "    total_force = return_total_force(p_a, points_cons, approx)\n",
    "\n",
    "    return total_force, len(points_cons)"
   ]
  },
  {
   "cell_type": "code",
   "execution_count": null,
   "metadata": {
    "colab": {},
    "colab_type": "code",
    "id": "ASZpVAH2smvN"
   },
   "outputs": [],
   "source": [
    "def diff_equation(y, t, c_drag, total_force):\n",
    "    p0, p1, r0, r1 = y\n",
    "    dydt = [r0, r1, total_force[0] - c_drag*r0, total_force[1] - c_drag*r1]\n",
    "    return dydt\n",
    "\n",
    "def solve_particle_path(index, initial_pos, map_points, time_integrate, approx=True):\n",
    "    y0 = [initial_pos[index][0], initial_pos[index][1], 0.0, 0.0]  \n",
    "    t = np.linspace(0, time_integrate, 10) \n",
    "    tf, tot_points = total_force_on_point(index, initial_pos, map_points, approx)\n",
    "    sol = odeint(diff_equation, y0, t, args=(c_drag, tf))\n",
    "    \n",
    "    return sol, tot_points"
   ]
  },
  {
   "cell_type": "code",
   "execution_count": null,
   "metadata": {
    "colab": {
     "base_uri": "https://localhost:8080/",
     "height": 283
    },
    "colab_type": "code",
    "id": "4X3u_P1wsmvP",
    "outputId": "207a7cfd-1248-49cf-eb56-814988c204a5"
   },
   "outputs": [],
   "source": [
    "map_points = form_dict(curr_points)\n",
    "\n",
    "slope = (max_time - min_time)/(1 - num_iterations)\n",
    "constant = (num_iterations*max_time - min_time)/(num_iterations - 1)\n",
    "start_algo = time.clock()\n",
    "pool = mp.Pool(mp.cpu_count())\n",
    "\n",
    "for k in range(num_iterations):\n",
    "    start_iteration = time.clock()\n",
    "    final_positions = []\n",
    "    num_particles = 0\n",
    "    total_dist = 0\n",
    "    new_map_points = {}\n",
    "    avg_total_points = 0\n",
    "    time_integrate = slope*(k+1) + constant\n",
    "    \n",
    "    if k < 8:\n",
    "        processes = [pool.apply_async(solve_particle_path, args=(i, curr_points, map_points, time_integrate, True)) for i in range(len(curr_points))]\n",
    "    else:\n",
    "        processes = [pool.apply_async(solve_particle_path, args=(i, curr_points, map_points, time_integrate, False)) for i in range(len(curr_points))] \n",
    "\n",
    "    results = [process.get() for process in processes]\n",
    "\n",
    "    for i in range(len(curr_points)):   \n",
    "        sol = results[i][0]\n",
    "        tot_points = results[i][1]\n",
    "        \n",
    "        if sol[-1, 0] >= -boundary and sol[-1, 0] <= anisotropy.shape[0] + boundary and \\\n",
    "           sol[-1, 1] >= -boundary and sol[-1, 1] <= anisotropy.shape[1] + boundary:\n",
    "            final_positions.append((sol[-1, 0], sol[-1, 1]))\n",
    "            num_particles += 1\n",
    "            avg_total_points += tot_points\n",
    "            total_dist += LA.norm(np.array([sol[-1, 0], sol[-1, 1]]) - np.array([sol[0, 0], sol[0, 1]]))     \n",
    "\n",
    "            new_bin_coord = bin_coords((sol[-1, 0], sol[-1, 1]))\n",
    "\n",
    "            if new_bin_coord in new_map_points.keys():\n",
    "                new_map_points[new_bin_coord].append((sol[-1, 0], sol[-1, 1]))\n",
    "            else:\n",
    "                new_map_points[new_bin_coord] = [(sol[-1, 0], sol[-1, 1])]\n",
    "    \n",
    "    if k%4 == 0: \n",
    "        print(\"Distances moved by particle:\", total_dist/num_particles)\n",
    "        print(\"Number of particles:\", num_particles)\n",
    "        print(\"Number of particles for force:\", avg_total_points/num_particles)\n",
    "        end_iteration = time.clock()\n",
    "        print(\"Time taken for iteration: \", end_iteration - start_iteration)\n",
    "        print(\"\")\n",
    "    \n",
    "    curr_points = final_positions\n",
    "    map_points = new_map_points\n",
    "    \n",
    "    if total_dist/num_particles < 0.3:\n",
    "        break\n",
    "\n",
    "end_algo = time.clock()\n",
    "\n",
    "print(\"Total time taken: \", end_algo - start_algo)"
   ]
  },
  {
   "cell_type": "code",
   "execution_count": null,
   "metadata": {
    "colab": {},
    "colab_type": "code",
    "id": "LRvC35tksmvQ"
   },
   "outputs": [],
   "source": [
    "final_positions = np.array(final_positions)\n",
    "final_positions = np.around(final_positions, decimals=0)"
   ]
  },
  {
   "cell_type": "code",
   "execution_count": null,
   "metadata": {
    "colab": {},
    "colab_type": "code",
    "id": "WJBNC8NusmvS"
   },
   "outputs": [],
   "source": [
    "for i in range(len(final_positions)):\n",
    "    if final_positions[i][0] >= 0 and final_positions[i][0] <= anisotropy.shape[0] and final_positions[i][1] >= 0 and final_positions[i][1] <= anisotropy.shape[1]:\n",
    "        plt.scatter(final_positions[i][0], final_positions[i][1], s=20)"
   ]
  },
  {
   "cell_type": "code",
   "execution_count": null,
   "metadata": {
    "colab": {},
    "colab_type": "code",
    "id": "cb_VRTbWsmvT"
   },
   "outputs": [],
   "source": [
    "USmooth, VSmooth = anisotropy*np.cos(orientation), anisotropy*np.sin(orientation)\n",
    "final_positions = final_positions.astype(int)"
   ]
  },
  {
   "cell_type": "code",
   "execution_count": null,
   "metadata": {
    "colab": {},
    "colab_type": "code",
    "id": "aliaIT7TsmvV"
   },
   "outputs": [],
   "source": [
    "Plotting_X = []\n",
    "Plotting_Y = []\n",
    "Plotting_U = []\n",
    "Plotting_V = []\n",
    "Plotting_orient = []\n",
    "\n",
    "USmooth = USmooth*0.5\n",
    "VSmooth = VSmooth*0.5\n",
    "\n",
    "for i in range(len(final_positions)):\n",
    "    if final_positions[i][0] >= 0 and final_positions[i][0] < anisotropy.shape[0] and final_positions[i][1] >= 0 and final_positions[i][1] < anisotropy.shape[1]:\n",
    "        Plotting_X.append(final_positions[i][0])\n",
    "        Plotting_Y.append(final_positions[i][1])\n",
    "        Plotting_U.append(USmooth[final_positions[i][0], final_positions[i][1]])\n",
    "        Plotting_V.append(VSmooth[final_positions[i][0], final_positions[i][1]])\n",
    "        Plotting_orient.append(orientation[final_positions[i][0], final_positions[i][1]])     \n",
    "\n",
    "Plotting_color = Plotting_orient"
   ]
  },
  {
   "cell_type": "code",
   "execution_count": null,
   "metadata": {
    "colab": {},
    "colab_type": "code",
    "id": "DVn-xIm1smvW"
   },
   "outputs": [],
   "source": [
    "cmapImage = 'gray'\n",
    "cmapOrient = 'hsv'\n",
    "linecolor = 'g'\n",
    "alpha = 0.6\n",
    "linewidth = 1\n",
    "\n",
    "im_ax = plt.imshow(anisotropy, cmap=cmapImage, origin='lower')\n",
    "plt.title('Orientation')\n",
    "plt.quiver(Plotting_Y, Plotting_X,\n",
    "           Plotting_U, Plotting_V, Plotting_color,\n",
    "           cmap=cmapOrient,\n",
    "           edgecolor=linecolor, facecolor=linecolor, units='xy', alpha=alpha, width=linewidth,\n",
    "           headwidth=0, headlength=0, headaxislength=0,\n",
    "           scale_units = 'xy', scale = 1, angles = 'uv', pivot = 'mid')"
   ]
  },
  {
   "cell_type": "code",
   "execution_count": null,
   "metadata": {
    "colab": {},
    "colab_type": "code",
    "id": "cJHE0zqpsmvX"
   },
   "outputs": [],
   "source": [
    "nY, nX = anisotropy.shape\n",
    "Y, X = np.mgrid[0:nY,0:nX] # notice the reversed order of X and Y\n",
    "spacing = 2\n",
    "    \n",
    "# Sample variables at the specified spacing.\n",
    "Plotting_X = X[::spacing, ::spacing]\n",
    "Plotting_Y = Y[::spacing, ::spacing]\n",
    "Plotting_U = USmooth[::spacing, ::spacing]\n",
    "Plotting_V = VSmooth[::spacing, ::spacing]\n",
    "\n",
    "threshold = np.ones_like(X) # no threshold\n",
    "Plotting_thres = threshold[::spacing, ::spacing]\n",
    "Plotting_orient=orientation[::spacing, ::spacing]\n",
    "\n",
    "thresholdIdx = Plotting_thres==1\n",
    "Plotting_X=Plotting_X[thresholdIdx]\n",
    "Plotting_Y=Plotting_Y[thresholdIdx]\n",
    "Plotting_U=Plotting_U[thresholdIdx]\n",
    "Plotting_V=Plotting_V[thresholdIdx]\n",
    "Plotting_orient=Plotting_orient[thresholdIdx]\n",
    "Plotting_color=Plotting_orient"
   ]
  },
  {
   "cell_type": "code",
   "execution_count": null,
   "metadata": {
    "colab": {},
    "colab_type": "code",
    "id": "6e66G3CzsmvY"
   },
   "outputs": [],
   "source": [
    "im_ax = plt.imshow(anisotropy, cmap=cmapImage)\n",
    "plt.title('Orientation')\n",
    "plt.quiver(Plotting_X, Plotting_Y,\n",
    "           Plotting_U, Plotting_V, Plotting_color,\n",
    "           cmap=cmapOrient,\n",
    "           edgecolor=linecolor, facecolor=linecolor, units='xy', alpha=alpha, width=linewidth,\n",
    "           headwidth=0, headlength=0, headaxislength=0,\n",
    "           scale_units = 'xy', scale = 1, angles = 'uv', pivot = 'mid')"
   ]
  },
  {
   "cell_type": "code",
   "execution_count": null,
   "metadata": {
    "colab": {},
    "colab_type": "code",
    "id": "_l9WN1CBsmvZ"
   },
   "outputs": [],
   "source": [
    "USmooth, VSmooth = anisotropy*np.cos(orientation), anisotropy*np.sin(orientation)\n",
    "\n",
    "Plotting_X = []\n",
    "Plotting_Y = []\n",
    "Plotting_U = []\n",
    "Plotting_V = []\n",
    "Plotting_orient = []\n",
    "\n",
    "USmooth = USmooth*0.1\n",
    "VSmooth = VSmooth*0.1\n",
    "\n",
    "for i in range(len(final_points)):\n",
    "        Plotting_X.append(final_points[i][0])\n",
    "        Plotting_Y.append(final_points[i][1])\n",
    "        Plotting_U.append(USmooth[final_points[i][0], final_points[i][1]])\n",
    "        Plotting_V.append(VSmooth[final_points[i][0], final_points[i][1]])\n",
    "        Plotting_orient.append(orientation[final_points[i][0], final_points[i][1]])     \n",
    "\n",
    "Plotting_color = Plotting_orient"
   ]
  },
  {
   "cell_type": "code",
   "execution_count": null,
   "metadata": {
    "colab": {},
    "colab_type": "code",
    "id": "MNIs3WAPsmvb"
   },
   "outputs": [],
   "source": [
    "cmapImage = 'gray'\n",
    "cmapOrient = 'hsv'\n",
    "linecolor = 'g'\n",
    "alpha = 0.6\n",
    "linewidth = 1\n",
    "\n",
    "im_ax = plt.imshow(anisotropy, cmap=cmapImage, origin='lower')\n",
    "plt.title('Orientation')\n",
    "plt.quiver(Plotting_Y, Plotting_X,\n",
    "           Plotting_U, Plotting_V, Plotting_color,\n",
    "           cmap=cmapOrient,\n",
    "           edgecolor=linecolor, facecolor=linecolor, units='xy', alpha=alpha, width=linewidth,\n",
    "           headwidth=0, headlength=0, headaxislength=0,\n",
    "           scale_units = 'xy', scale = 1, angles = 'uv', pivot = 'mid')"
   ]
  },
  {
   "cell_type": "code",
   "execution_count": null,
   "metadata": {
    "colab": {},
    "colab_type": "code",
    "id": "UNaZP--2smvc"
   },
   "outputs": [],
   "source": []
  }
 ],
 "metadata": {
  "colab": {
   "collapsed_sections": [],
   "name": "Glyph Packing Vectorized.ipynb",
   "provenance": []
  },
  "kernelspec": {
   "display_name": "Python 3",
   "language": "python",
   "name": "python3"
  },
  "language_info": {
   "codemirror_mode": {
    "name": "ipython",
    "version": 3
   },
   "file_extension": ".py",
   "mimetype": "text/x-python",
   "name": "python",
   "nbconvert_exporter": "python",
   "pygments_lexer": "ipython3",
   "version": "3.6.10"
  }
 },
 "nbformat": 4,
 "nbformat_minor": 4
}
