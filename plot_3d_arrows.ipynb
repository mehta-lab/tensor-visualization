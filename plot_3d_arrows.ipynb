{
 "cells": [
  {
   "cell_type": "code",
   "execution_count": null,
   "metadata": {},
   "outputs": [],
   "source": [
    "import pyvista as pv\n",
    "from pyvistaqt import BackgroundPlotter\n",
    "import matplotlib.pyplot as plt\n",
    "\n",
    "import glob\n",
    "import cv2\n",
    "import numpy as np\n",
    "from scipy.ndimage import uniform_filter\n",
    "\n",
    "from skimage.restoration import (denoise_tv_chambolle, denoise_bilateral,\n",
    "                                 denoise_wavelet, estimate_sigma)"
   ]
  },
  {
   "cell_type": "code",
   "execution_count": null,
   "metadata": {},
   "outputs": [],
   "source": [
    "ret_path = '3d_dataset/retardance3D/*'\n",
    "azimuth_path = '3d_dataset/azimuth/*'\n",
    "theta_path = '3d_dataset/theta/*'\n",
    "\n",
    "ret_files = sorted(glob.glob(ret_path))\n",
    "azimuth_files = sorted(glob.glob(azimuth_path))\n",
    "theta_files = sorted(glob.glob(theta_path))"
   ]
  },
  {
   "cell_type": "code",
   "execution_count": null,
   "metadata": {},
   "outputs": [],
   "source": [
    "N_z = 96\n",
    "\n",
    "ret = []\n",
    "azimuth = []\n",
    "theta = []\n",
    "for i in range(N_z):\n",
    "    ret.append(cv2.imread(ret_files[i], -1).astype('float32'))\n",
    "    azimuth.append(cv2.imread(azimuth_files[i], -1).astype('float32'))\n",
    "    theta.append(cv2.imread(theta_files[i], -1).astype('float32'))\n",
    "\n",
    "ret = np.transpose(np.array(ret),(1,2,0))/10000\n",
    "azimuth = np.transpose(np.array(azimuth),(1,2,0))/18000*np.pi\n",
    "theta = np.transpose(np.array(theta),(1,2,0))/18000*np.pi"
   ]
  },
  {
   "cell_type": "code",
   "execution_count": null,
   "metadata": {},
   "outputs": [],
   "source": [
    "anisotropy=0.2*np.abs(ret)\n",
    "linelength = 20\n",
    "\n",
    "f_1c = anisotropy*linelength*(np.sin(theta)**2)*np.cos(2*azimuth)\n",
    "f_1s = anisotropy*linelength*(np.sin(theta)**2)*np.sin(2*azimuth)\n",
    "f_2c = anisotropy*linelength*np.sin(2*theta)*np.cos(azimuth)\n",
    "f_2s = anisotropy*linelength*np.sin(2*theta)*np.sin(azimuth)\n",
    "\n",
    "f_1c_denoised = denoise_tv_chambolle(f_1c, weight=2)\n",
    "f_1s_denoised = denoise_tv_chambolle(f_1s, weight=2)\n",
    "f_2c_denoised = denoise_tv_chambolle(f_2c, weight=2)\n",
    "f_2s_denoised = denoise_tv_chambolle(f_2s, weight=2)\n",
    "\n",
    "# Averaging\n",
    "f_1c_smooth = uniform_filter(f_1c_denoised)\n",
    "f_1s_smooth = uniform_filter(f_1s_denoised)\n",
    "f_2c_smooth = uniform_filter(f_2c_denoised)\n",
    "f_2s_smooth = uniform_filter(f_2s_denoised)"
   ]
  },
  {
   "cell_type": "code",
   "execution_count": null,
   "metadata": {},
   "outputs": [],
   "source": [
    "reg_ret_ap = 0.0001\n",
    "azimuth_n = (np.arctan2(f_1s_smooth, f_1c_smooth)/2)%np.pi\n",
    "del_f_sin_square_n = f_1s_smooth*np.sin(2*azimuth_n) + f_1c_smooth*np.cos(2*azimuth_n)\n",
    "del_f_sin2theta_n = f_2s_smooth*np.sin(azimuth_n) + f_2c_smooth*np.cos(azimuth_n)\n",
    "theta_n = np.arctan2(2*del_f_sin_square_n, del_f_sin2theta_n)\n",
    "retardance_ap_n = del_f_sin_square_n * np.sin(theta_n)**2 / (np.sin(theta_n)**4 + reg_ret_ap)"
   ]
  },
  {
   "cell_type": "code",
   "execution_count": null,
   "metadata": {},
   "outputs": [],
   "source": [
    "USmooth = retardance_ap_n*np.cos(azimuth_n)*np.sin(theta_n)\n",
    "VSmooth = retardance_ap_n*np.sin(azimuth_n)*np.sin(theta_n)\n",
    "WSmooth = retardance_ap_n*np.cos(theta_n)\n",
    "\n",
    "nY, nX, nZ = USmooth.shape\n",
    "y, x, z = np.mgrid[0:nY,0:nX,0:nZ]\n",
    "spacing=5\n",
    "spacing_z=5\n",
    "\n",
    "# Plot sparsely sampled vector lines\n",
    "Plotting_X = x[::-spacing, ::spacing, ::spacing_z]\n",
    "Plotting_Y = y[::-spacing, ::spacing, ::spacing_z]\n",
    "Plotting_Z = z[::-spacing, ::spacing, ::spacing_z]\n",
    "Plotting_U = USmooth[::-spacing, ::spacing, ::spacing_z]\n",
    "Plotting_V = VSmooth[::-spacing, ::spacing, ::spacing_z]\n",
    "Plotting_W = WSmooth[::-spacing, ::spacing, ::spacing_z]\n",
    "\n",
    "points = np.empty((Plotting_X.size, 3))\n",
    "points[:, 0] = Plotting_X.ravel('F')\n",
    "points[:, 1] = Plotting_Y.ravel('F')\n",
    "points[:, 2] = Plotting_Z.ravel('F')\n",
    "\n",
    "directions = np.empty((Plotting_X.size, 3))\n",
    "directions[:, 0] = Plotting_U.ravel('F')\n",
    "directions[:, 1] = Plotting_V.ravel('F')\n",
    "directions[:, 2] = Plotting_W.ravel('F')"
   ]
  },
  {
   "cell_type": "code",
   "execution_count": null,
   "metadata": {},
   "outputs": [],
   "source": [
    "p = BackgroundPlotter()\n",
    "p.clear()  # clears all actors\n",
    "p.add_arrows(points, directions*2, 1)"
   ]
  },
  {
   "cell_type": "code",
   "execution_count": null,
   "metadata": {},
   "outputs": [],
   "source": [
    "p.clear()  # clears all actors"
   ]
  },
  {
   "cell_type": "code",
   "execution_count": null,
   "metadata": {},
   "outputs": [],
   "source": [
    "ret_path = '3d_dataset_2/retardance3D/*'\n",
    "azimuth_path = '3d_dataset_2/azimuth/*'\n",
    "theta_path = '3d_dataset_2/theta/*'\n",
    "\n",
    "ret_files = sorted(glob.glob(ret_path))\n",
    "azimuth_files = sorted(glob.glob(azimuth_path))\n",
    "theta_files = sorted(glob.glob(theta_path))"
   ]
  },
  {
   "cell_type": "code",
   "execution_count": null,
   "metadata": {},
   "outputs": [],
   "source": [
    "ret = []\n",
    "azimuth = []\n",
    "theta = []\n",
    "for i in range(N_z):\n",
    "    ret.append(cv2.imread(ret_files[i], -1).astype('float32'))\n",
    "    azimuth.append(cv2.imread(azimuth_files[i], -1).astype('float32'))\n",
    "    theta.append(cv2.imread(theta_files[i], -1).astype('float32'))\n",
    "\n",
    "ret = np.transpose(np.array(ret),(1,2,0))/10000\n",
    "azimuth = np.transpose(np.array(azimuth),(1,2,0))/18000*np.pi\n",
    "theta = np.transpose(np.array(theta),(1,2,0))/18000*np.pi"
   ]
  },
  {
   "cell_type": "code",
   "execution_count": null,
   "metadata": {},
   "outputs": [],
   "source": [
    "anisotropy=0.2*np.abs(ret)\n",
    "linelength = 20\n",
    "\n",
    "f_1c = anisotropy*linelength*(np.sin(theta)**2)*np.cos(2*azimuth)\n",
    "f_1s = anisotropy*linelength*(np.sin(theta)**2)*np.sin(2*azimuth)\n",
    "f_2c = anisotropy*linelength*np.sin(2*theta)*np.cos(azimuth)\n",
    "f_2s = anisotropy*linelength*np.sin(2*theta)*np.sin(azimuth)\n",
    "\n",
    "f_1c_denoised = denoise_tv_chambolle(f_1c, weight=2)\n",
    "f_1s_denoised = denoise_tv_chambolle(f_1s, weight=2)\n",
    "f_2c_denoised = denoise_tv_chambolle(f_2c, weight=2)\n",
    "f_2s_denoised = denoise_tv_chambolle(f_2s, weight=2)\n",
    "\n",
    "# Averaging\n",
    "f_1c_smooth = uniform_filter(f_1c_denoised, (40, 40, 10))\n",
    "f_1s_smooth = uniform_filter(f_1s_denoised, (40, 40, 10))\n",
    "f_2c_smooth = uniform_filter(f_2c_denoised, (40, 40, 10))\n",
    "f_2s_smooth = uniform_filter(f_2s_denoised, (40, 40, 10))\n",
    "\n",
    "# Denoising\n",
    "\n",
    "reg_ret_ap = 0.0001\n",
    "# azimuth_n = (np.arctan2(f_1s_smooth, f_1c_smooth)/2)%np.pi\n",
    "# del_f_sin_square_n = f_1s_smooth*np.sin(2*azimuth_n) + f_1c_smooth*np.cos(2*azimuth_n)\n",
    "# del_f_sin2theta_n = f_2s_smooth*np.sin(azimuth_n) + f_2c_smooth*np.cos(azimuth_n)\n",
    "# theta_n = np.arctan2(2*del_f_sin_square_n, del_f_sin2theta_n)\n",
    "# retardance_ap_n = del_f_sin_square_n * np.sin(theta_n)**2 / (np.sin(theta_n)**4 + reg_ret_ap)\n",
    "\n",
    "# Negative Retardance\n",
    "azimuth_n = (np.arctan2(-f_1s_smooth, -f_1c_smooth)/2)%np.pi\n",
    "del_f_sin_square_n = f_1s_smooth*np.sin(2*azimuth_n) + f_1c_smooth*np.cos(2*azimuth_n)\n",
    "del_f_sin2theta_n = f_2s_smooth*np.sin(azimuth_n) + f_2c_smooth*np.cos(azimuth_n)\n",
    "theta_n = np.arctan2(-2*del_f_sin_square_n, -del_f_sin2theta_n)\n",
    "retardance_ap_n = del_f_sin_square_n * np.sin(theta_n)**2 / (np.sin(theta_n)**4 + reg_ret_ap)"
   ]
  },
  {
   "cell_type": "code",
   "execution_count": null,
   "metadata": {},
   "outputs": [],
   "source": [
    "retardance_ap_n = np.load('retardance_ap_n.npy')\n",
    "azimuth_n = np.load('azimuth_n.npy')\n",
    "theta_n = np.load('theta_n.npy')"
   ]
  },
  {
   "cell_type": "code",
   "execution_count": null,
   "metadata": {},
   "outputs": [],
   "source": [
    "USmooth = retardance_ap_n*np.cos(azimuth_n)*np.sin(theta_n)\n",
    "VSmooth = retardance_ap_n*np.sin(azimuth_n)*np.sin(theta_n)\n",
    "WSmooth = retardance_ap_n*np.cos(theta_n)\n",
    "\n",
    "# Make the grid\n",
    "nY, nX, nZ = USmooth.shape\n",
    "# Make a grid\n",
    "y, x, z = np.mgrid[0:nY,0:nX,0:nZ]\n",
    "spacing=7\n",
    "spacing_z=2\n",
    "\n",
    "# Plot sparsely sampled vector lines\n",
    "Plotting_X = x[::-spacing, ::spacing, ::spacing_z]\n",
    "Plotting_Y = y[::-spacing, ::spacing, ::spacing_z]\n",
    "Plotting_Z = z[::-spacing, ::spacing, ::spacing_z]\n",
    "Plotting_U = USmooth[::-spacing, ::spacing, ::spacing_z]\n",
    "Plotting_V = VSmooth[::-spacing, ::spacing, ::spacing_z]\n",
    "Plotting_W = WSmooth[::-spacing, ::spacing, ::spacing_z]\n",
    "\n",
    "points = np.empty((Plotting_X.size, 3))\n",
    "points[:, 0] = Plotting_X.ravel('F')\n",
    "points[:, 1] = Plotting_Y.ravel('F')\n",
    "points[:, 2] = Plotting_Z.ravel('F')\n",
    "\n",
    "directions = np.empty((Plotting_X.size, 3))\n",
    "directions[:, 0] = Plotting_U.ravel('F')\n",
    "directions[:, 1] = Plotting_V.ravel('F')\n",
    "directions[:, 2] = Plotting_W.ravel('F')"
   ]
  },
  {
   "cell_type": "code",
   "execution_count": null,
   "metadata": {},
   "outputs": [],
   "source": [
    "p = BackgroundPlotter()\n",
    "p.clear()\n",
    "p.add_arrows(points, directions, 2)"
   ]
  },
  {
   "cell_type": "code",
   "execution_count": null,
   "metadata": {},
   "outputs": [],
   "source": [
    "p.clear()"
   ]
  },
  {
   "cell_type": "code",
   "execution_count": null,
   "metadata": {},
   "outputs": [],
   "source": []
  }
 ],
 "metadata": {
  "kernelspec": {
   "display_name": "Python 3",
   "language": "python",
   "name": "python3"
  },
  "language_info": {
   "codemirror_mode": {
    "name": "ipython",
    "version": 3
   },
   "file_extension": ".py",
   "mimetype": "text/x-python",
   "name": "python",
   "nbconvert_exporter": "python",
   "pygments_lexer": "ipython3",
   "version": "3.6.10"
  }
 },
 "nbformat": 4,
 "nbformat_minor": 4
}
